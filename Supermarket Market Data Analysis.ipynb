{
 "cells": [
  {
   "cell_type": "markdown",
   "id": "1625719e",
   "metadata": {},
   "source": [
    "### Problem Statement\n",
    "\n",
    "You have just been hired as a data analyst for a supermarket with branches located in 3 major cities in Nigeria. Each branch has been recording sales information for the past 3 months. The company is interested in understanding how well the business has fared across the 3 branches, identify risks and areas of improvements. \n",
    "\n",
    "### Objective\n",
    "\n",
    "- Get the sales data for each branch\n",
    "\n",
    "- Examine and profile the data \n",
    "\n",
    "- Prepare the data for visualization\n",
    "\n",
    "- Visualize the data and identify key insights and recommendations\n",
    "\n",
    "### Approach\n",
    "\n",
    "To achieve this, we are going to approach the analysis using the CRISP-DM (Cross-Industry Standard Process for Data Mining) Framework  \n",
    "\n",
    "- Properly understand the business and data\n",
    "\n",
    "- Prepare the data for analysis\n",
    "\n",
    "-  Answer questions to help us achieve our objectives\n",
    "\n",
    "- Draw conclusions\n",
    "\n",
    "- Prepare a summary "
   ]
  },
  {
   "cell_type": "markdown",
   "id": "30b74ce1",
   "metadata": {},
   "source": [
    "#### 1. Data Understanding/Exploration"
   ]
  },
  {
   "cell_type": "code",
   "execution_count": 2,
   "id": "5196d6e0",
   "metadata": {},
   "outputs": [],
   "source": [
    "import numpy as np\n",
    "import pandas as pd\n",
    "import matplotlib.pyplot as plt\n",
    "import seaborn as sb\n",
    "import warnings\n",
    "\n",
    "%matplotlib inline\n",
    "warnings.filterwarnings(\"ignore\")"
   ]
  },
  {
   "cell_type": "code",
   "execution_count": 3,
   "id": "8c0ec958",
   "metadata": {},
   "outputs": [],
   "source": [
    "# read in all the datasets\n",
    "\n",
    "lagos_df = pd.read_csv('datasets/Lagos_Branch.csv')\n",
    "abuja_df = pd.read_csv('datasets/Abuja_Branch.csv')\n",
    "ph_df = pd.read_csv('datasets/Port_Harcourt_Branch.csv')"
   ]
  },
  {
   "cell_type": "code",
   "execution_count": 4,
   "id": "92811d0d",
   "metadata": {},
   "outputs": [
    {
     "data": {
      "text/html": [
       "<div>\n",
       "<style scoped>\n",
       "    .dataframe tbody tr th:only-of-type {\n",
       "        vertical-align: middle;\n",
       "    }\n",
       "\n",
       "    .dataframe tbody tr th {\n",
       "        vertical-align: top;\n",
       "    }\n",
       "\n",
       "    .dataframe thead th {\n",
       "        text-align: right;\n",
       "    }\n",
       "</style>\n",
       "<table border=\"1\" class=\"dataframe\">\n",
       "  <thead>\n",
       "    <tr style=\"text-align: right;\">\n",
       "      <th></th>\n",
       "      <th>Invoice ID</th>\n",
       "      <th>Branch</th>\n",
       "      <th>City</th>\n",
       "      <th>Customer type</th>\n",
       "      <th>Gender</th>\n",
       "      <th>Product line</th>\n",
       "      <th>Unit price</th>\n",
       "      <th>Quantity</th>\n",
       "      <th>Tax 5%</th>\n",
       "      <th>Total</th>\n",
       "      <th>Date</th>\n",
       "      <th>Time</th>\n",
       "      <th>Payment</th>\n",
       "      <th>cogs</th>\n",
       "      <th>gross margin percentage</th>\n",
       "      <th>gross income</th>\n",
       "      <th>Rating</th>\n",
       "    </tr>\n",
       "  </thead>\n",
       "  <tbody>\n",
       "    <tr>\n",
       "      <th>0</th>\n",
       "      <td>750-67-8428</td>\n",
       "      <td>A</td>\n",
       "      <td>Lagos</td>\n",
       "      <td>Member</td>\n",
       "      <td>Female</td>\n",
       "      <td>Health and beauty</td>\n",
       "      <td>26888.4</td>\n",
       "      <td>7</td>\n",
       "      <td>9410.94</td>\n",
       "      <td>197629.74</td>\n",
       "      <td>1/5/2019</td>\n",
       "      <td>13:08</td>\n",
       "      <td>Epay</td>\n",
       "      <td>188218.8</td>\n",
       "      <td>4.761905</td>\n",
       "      <td>9410.94</td>\n",
       "      <td>9.1</td>\n",
       "    </tr>\n",
       "    <tr>\n",
       "      <th>1</th>\n",
       "      <td>631-41-3108</td>\n",
       "      <td>A</td>\n",
       "      <td>Lagos</td>\n",
       "      <td>Normal</td>\n",
       "      <td>Male</td>\n",
       "      <td>Home and lifestyle</td>\n",
       "      <td>16678.8</td>\n",
       "      <td>7</td>\n",
       "      <td>5837.58</td>\n",
       "      <td>122589.18</td>\n",
       "      <td>3/3/2019</td>\n",
       "      <td>13:23</td>\n",
       "      <td>Card</td>\n",
       "      <td>116751.6</td>\n",
       "      <td>4.761905</td>\n",
       "      <td>5837.58</td>\n",
       "      <td>7.4</td>\n",
       "    </tr>\n",
       "    <tr>\n",
       "      <th>2</th>\n",
       "      <td>123-19-1176</td>\n",
       "      <td>A</td>\n",
       "      <td>Lagos</td>\n",
       "      <td>Member</td>\n",
       "      <td>Male</td>\n",
       "      <td>Health and beauty</td>\n",
       "      <td>20959.2</td>\n",
       "      <td>8</td>\n",
       "      <td>8383.68</td>\n",
       "      <td>176057.28</td>\n",
       "      <td>1/27/2019</td>\n",
       "      <td>20:33</td>\n",
       "      <td>Epay</td>\n",
       "      <td>167673.6</td>\n",
       "      <td>4.761905</td>\n",
       "      <td>8383.68</td>\n",
       "      <td>8.4</td>\n",
       "    </tr>\n",
       "    <tr>\n",
       "      <th>3</th>\n",
       "      <td>373-73-7910</td>\n",
       "      <td>A</td>\n",
       "      <td>Lagos</td>\n",
       "      <td>Normal</td>\n",
       "      <td>Male</td>\n",
       "      <td>Sports and travel</td>\n",
       "      <td>31071.6</td>\n",
       "      <td>7</td>\n",
       "      <td>10875.06</td>\n",
       "      <td>228376.26</td>\n",
       "      <td>2/8/2019</td>\n",
       "      <td>10:37</td>\n",
       "      <td>Epay</td>\n",
       "      <td>217501.2</td>\n",
       "      <td>4.761905</td>\n",
       "      <td>10875.06</td>\n",
       "      <td>5.3</td>\n",
       "    </tr>\n",
       "    <tr>\n",
       "      <th>4</th>\n",
       "      <td>355-53-5943</td>\n",
       "      <td>A</td>\n",
       "      <td>Lagos</td>\n",
       "      <td>Member</td>\n",
       "      <td>Female</td>\n",
       "      <td>Electronic accessories</td>\n",
       "      <td>24782.4</td>\n",
       "      <td>6</td>\n",
       "      <td>7434.72</td>\n",
       "      <td>156129.12</td>\n",
       "      <td>2/25/2019</td>\n",
       "      <td>14:36</td>\n",
       "      <td>Epay</td>\n",
       "      <td>148694.4</td>\n",
       "      <td>4.761905</td>\n",
       "      <td>7434.72</td>\n",
       "      <td>5.8</td>\n",
       "    </tr>\n",
       "  </tbody>\n",
       "</table>\n",
       "</div>"
      ],
      "text/plain": [
       "    Invoice ID Branch   City Customer type  Gender            Product line  \\\n",
       "0  750-67-8428      A  Lagos        Member  Female       Health and beauty   \n",
       "1  631-41-3108      A  Lagos        Normal    Male      Home and lifestyle   \n",
       "2  123-19-1176      A  Lagos        Member    Male       Health and beauty   \n",
       "3  373-73-7910      A  Lagos        Normal    Male       Sports and travel   \n",
       "4  355-53-5943      A  Lagos        Member  Female  Electronic accessories   \n",
       "\n",
       "   Unit price  Quantity    Tax 5%      Total       Date   Time Payment  \\\n",
       "0     26888.4         7   9410.94  197629.74   1/5/2019  13:08    Epay   \n",
       "1     16678.8         7   5837.58  122589.18   3/3/2019  13:23    Card   \n",
       "2     20959.2         8   8383.68  176057.28  1/27/2019  20:33    Epay   \n",
       "3     31071.6         7  10875.06  228376.26   2/8/2019  10:37    Epay   \n",
       "4     24782.4         6   7434.72  156129.12  2/25/2019  14:36    Epay   \n",
       "\n",
       "       cogs  gross margin percentage  gross income  Rating  \n",
       "0  188218.8                 4.761905       9410.94     9.1  \n",
       "1  116751.6                 4.761905       5837.58     7.4  \n",
       "2  167673.6                 4.761905       8383.68     8.4  \n",
       "3  217501.2                 4.761905      10875.06     5.3  \n",
       "4  148694.4                 4.761905       7434.72     5.8  "
      ]
     },
     "execution_count": 4,
     "metadata": {},
     "output_type": "execute_result"
    }
   ],
   "source": [
    "lagos_df.head()"
   ]
  },
  {
   "cell_type": "code",
   "execution_count": 5,
   "id": "03f30bcf",
   "metadata": {},
   "outputs": [
    {
     "data": {
      "text/html": [
       "<div>\n",
       "<style scoped>\n",
       "    .dataframe tbody tr th:only-of-type {\n",
       "        vertical-align: middle;\n",
       "    }\n",
       "\n",
       "    .dataframe tbody tr th {\n",
       "        vertical-align: top;\n",
       "    }\n",
       "\n",
       "    .dataframe thead th {\n",
       "        text-align: right;\n",
       "    }\n",
       "</style>\n",
       "<table border=\"1\" class=\"dataframe\">\n",
       "  <thead>\n",
       "    <tr style=\"text-align: right;\">\n",
       "      <th></th>\n",
       "      <th>Invoice ID</th>\n",
       "      <th>Branch</th>\n",
       "      <th>City</th>\n",
       "      <th>Customer type</th>\n",
       "      <th>Gender</th>\n",
       "      <th>Product line</th>\n",
       "      <th>Unit price</th>\n",
       "      <th>Quantity</th>\n",
       "      <th>Tax 5%</th>\n",
       "      <th>Total</th>\n",
       "      <th>Date</th>\n",
       "      <th>Time</th>\n",
       "      <th>Payment</th>\n",
       "      <th>cogs</th>\n",
       "      <th>gross margin percentage</th>\n",
       "      <th>gross income</th>\n",
       "      <th>Rating</th>\n",
       "    </tr>\n",
       "  </thead>\n",
       "  <tbody>\n",
       "    <tr>\n",
       "      <th>0</th>\n",
       "      <td>692-92-5582</td>\n",
       "      <td>B</td>\n",
       "      <td>Abuja</td>\n",
       "      <td>Member</td>\n",
       "      <td>Female</td>\n",
       "      <td>Food and beverages</td>\n",
       "      <td>19742.4</td>\n",
       "      <td>3</td>\n",
       "      <td>2961.36</td>\n",
       "      <td>62188.56</td>\n",
       "      <td>2/20/2019</td>\n",
       "      <td>13:27</td>\n",
       "      <td>Card</td>\n",
       "      <td>59227.2</td>\n",
       "      <td>4.761905</td>\n",
       "      <td>2961.36</td>\n",
       "      <td>5.9</td>\n",
       "    </tr>\n",
       "    <tr>\n",
       "      <th>1</th>\n",
       "      <td>351-62-0822</td>\n",
       "      <td>B</td>\n",
       "      <td>Abuja</td>\n",
       "      <td>Member</td>\n",
       "      <td>Female</td>\n",
       "      <td>Fashion accessories</td>\n",
       "      <td>5212.8</td>\n",
       "      <td>4</td>\n",
       "      <td>1042.56</td>\n",
       "      <td>21893.76</td>\n",
       "      <td>2/6/2019</td>\n",
       "      <td>18:07</td>\n",
       "      <td>Epay</td>\n",
       "      <td>20851.2</td>\n",
       "      <td>4.761905</td>\n",
       "      <td>1042.56</td>\n",
       "      <td>4.5</td>\n",
       "    </tr>\n",
       "    <tr>\n",
       "      <th>2</th>\n",
       "      <td>529-56-3974</td>\n",
       "      <td>B</td>\n",
       "      <td>Abuja</td>\n",
       "      <td>Member</td>\n",
       "      <td>Male</td>\n",
       "      <td>Electronic accessories</td>\n",
       "      <td>9183.6</td>\n",
       "      <td>4</td>\n",
       "      <td>1836.72</td>\n",
       "      <td>38571.12</td>\n",
       "      <td>3/9/2019</td>\n",
       "      <td>17:03</td>\n",
       "      <td>Cash</td>\n",
       "      <td>36734.4</td>\n",
       "      <td>4.761905</td>\n",
       "      <td>1836.72</td>\n",
       "      <td>6.8</td>\n",
       "    </tr>\n",
       "    <tr>\n",
       "      <th>3</th>\n",
       "      <td>299-46-1805</td>\n",
       "      <td>B</td>\n",
       "      <td>Abuja</td>\n",
       "      <td>Member</td>\n",
       "      <td>Female</td>\n",
       "      <td>Sports and travel</td>\n",
       "      <td>33739.2</td>\n",
       "      <td>6</td>\n",
       "      <td>10121.76</td>\n",
       "      <td>212556.96</td>\n",
       "      <td>1/15/2019</td>\n",
       "      <td>16:19</td>\n",
       "      <td>Cash</td>\n",
       "      <td>202435.2</td>\n",
       "      <td>4.761905</td>\n",
       "      <td>10121.76</td>\n",
       "      <td>4.5</td>\n",
       "    </tr>\n",
       "    <tr>\n",
       "      <th>4</th>\n",
       "      <td>319-50-3348</td>\n",
       "      <td>B</td>\n",
       "      <td>Abuja</td>\n",
       "      <td>Normal</td>\n",
       "      <td>Female</td>\n",
       "      <td>Home and lifestyle</td>\n",
       "      <td>14508.0</td>\n",
       "      <td>2</td>\n",
       "      <td>1450.80</td>\n",
       "      <td>30466.80</td>\n",
       "      <td>3/11/2019</td>\n",
       "      <td>15:30</td>\n",
       "      <td>Epay</td>\n",
       "      <td>29016.0</td>\n",
       "      <td>4.761905</td>\n",
       "      <td>1450.80</td>\n",
       "      <td>4.4</td>\n",
       "    </tr>\n",
       "  </tbody>\n",
       "</table>\n",
       "</div>"
      ],
      "text/plain": [
       "    Invoice ID Branch   City Customer type  Gender            Product line  \\\n",
       "0  692-92-5582      B  Abuja        Member  Female      Food and beverages   \n",
       "1  351-62-0822      B  Abuja        Member  Female     Fashion accessories   \n",
       "2  529-56-3974      B  Abuja        Member    Male  Electronic accessories   \n",
       "3  299-46-1805      B  Abuja        Member  Female       Sports and travel   \n",
       "4  319-50-3348      B  Abuja        Normal  Female      Home and lifestyle   \n",
       "\n",
       "   Unit price  Quantity    Tax 5%      Total       Date   Time Payment  \\\n",
       "0     19742.4         3   2961.36   62188.56  2/20/2019  13:27    Card   \n",
       "1      5212.8         4   1042.56   21893.76   2/6/2019  18:07    Epay   \n",
       "2      9183.6         4   1836.72   38571.12   3/9/2019  17:03    Cash   \n",
       "3     33739.2         6  10121.76  212556.96  1/15/2019  16:19    Cash   \n",
       "4     14508.0         2   1450.80   30466.80  3/11/2019  15:30    Epay   \n",
       "\n",
       "       cogs  gross margin percentage  gross income  Rating  \n",
       "0   59227.2                 4.761905       2961.36     5.9  \n",
       "1   20851.2                 4.761905       1042.56     4.5  \n",
       "2   36734.4                 4.761905       1836.72     6.8  \n",
       "3  202435.2                 4.761905      10121.76     4.5  \n",
       "4   29016.0                 4.761905       1450.80     4.4  "
      ]
     },
     "execution_count": 5,
     "metadata": {},
     "output_type": "execute_result"
    }
   ],
   "source": [
    "abuja_df.head()"
   ]
  },
  {
   "cell_type": "code",
   "execution_count": 6,
   "id": "8f43ad86",
   "metadata": {},
   "outputs": [],
   "source": [
    "# we want to work on the datasets as a whole so we concatenate the data for each branch\n",
    "\n",
    "comb_df = pd.concat([lagos_df, abuja_df, ph_df], ignore_index = True) "
   ]
  },
  {
   "cell_type": "code",
   "execution_count": 7,
   "id": "88e831cc",
   "metadata": {},
   "outputs": [
    {
     "data": {
      "text/html": [
       "<div>\n",
       "<style scoped>\n",
       "    .dataframe tbody tr th:only-of-type {\n",
       "        vertical-align: middle;\n",
       "    }\n",
       "\n",
       "    .dataframe tbody tr th {\n",
       "        vertical-align: top;\n",
       "    }\n",
       "\n",
       "    .dataframe thead th {\n",
       "        text-align: right;\n",
       "    }\n",
       "</style>\n",
       "<table border=\"1\" class=\"dataframe\">\n",
       "  <thead>\n",
       "    <tr style=\"text-align: right;\">\n",
       "      <th></th>\n",
       "      <th>Invoice ID</th>\n",
       "      <th>Branch</th>\n",
       "      <th>City</th>\n",
       "      <th>Customer type</th>\n",
       "      <th>Gender</th>\n",
       "      <th>Product line</th>\n",
       "      <th>Unit price</th>\n",
       "      <th>Quantity</th>\n",
       "      <th>Tax 5%</th>\n",
       "      <th>Total</th>\n",
       "      <th>Date</th>\n",
       "      <th>Time</th>\n",
       "      <th>Payment</th>\n",
       "      <th>cogs</th>\n",
       "      <th>gross margin percentage</th>\n",
       "      <th>gross income</th>\n",
       "      <th>Rating</th>\n",
       "    </tr>\n",
       "  </thead>\n",
       "  <tbody>\n",
       "    <tr>\n",
       "      <th>0</th>\n",
       "      <td>750-67-8428</td>\n",
       "      <td>A</td>\n",
       "      <td>Lagos</td>\n",
       "      <td>Member</td>\n",
       "      <td>Female</td>\n",
       "      <td>Health and beauty</td>\n",
       "      <td>26888.4</td>\n",
       "      <td>7</td>\n",
       "      <td>9410.94</td>\n",
       "      <td>197629.74</td>\n",
       "      <td>1/5/2019</td>\n",
       "      <td>13:08</td>\n",
       "      <td>Epay</td>\n",
       "      <td>188218.8</td>\n",
       "      <td>4.761905</td>\n",
       "      <td>9410.94</td>\n",
       "      <td>9.1</td>\n",
       "    </tr>\n",
       "    <tr>\n",
       "      <th>1</th>\n",
       "      <td>631-41-3108</td>\n",
       "      <td>A</td>\n",
       "      <td>Lagos</td>\n",
       "      <td>Normal</td>\n",
       "      <td>Male</td>\n",
       "      <td>Home and lifestyle</td>\n",
       "      <td>16678.8</td>\n",
       "      <td>7</td>\n",
       "      <td>5837.58</td>\n",
       "      <td>122589.18</td>\n",
       "      <td>3/3/2019</td>\n",
       "      <td>13:23</td>\n",
       "      <td>Card</td>\n",
       "      <td>116751.6</td>\n",
       "      <td>4.761905</td>\n",
       "      <td>5837.58</td>\n",
       "      <td>7.4</td>\n",
       "    </tr>\n",
       "    <tr>\n",
       "      <th>2</th>\n",
       "      <td>123-19-1176</td>\n",
       "      <td>A</td>\n",
       "      <td>Lagos</td>\n",
       "      <td>Member</td>\n",
       "      <td>Male</td>\n",
       "      <td>Health and beauty</td>\n",
       "      <td>20959.2</td>\n",
       "      <td>8</td>\n",
       "      <td>8383.68</td>\n",
       "      <td>176057.28</td>\n",
       "      <td>1/27/2019</td>\n",
       "      <td>20:33</td>\n",
       "      <td>Epay</td>\n",
       "      <td>167673.6</td>\n",
       "      <td>4.761905</td>\n",
       "      <td>8383.68</td>\n",
       "      <td>8.4</td>\n",
       "    </tr>\n",
       "    <tr>\n",
       "      <th>3</th>\n",
       "      <td>373-73-7910</td>\n",
       "      <td>A</td>\n",
       "      <td>Lagos</td>\n",
       "      <td>Normal</td>\n",
       "      <td>Male</td>\n",
       "      <td>Sports and travel</td>\n",
       "      <td>31071.6</td>\n",
       "      <td>7</td>\n",
       "      <td>10875.06</td>\n",
       "      <td>228376.26</td>\n",
       "      <td>2/8/2019</td>\n",
       "      <td>10:37</td>\n",
       "      <td>Epay</td>\n",
       "      <td>217501.2</td>\n",
       "      <td>4.761905</td>\n",
       "      <td>10875.06</td>\n",
       "      <td>5.3</td>\n",
       "    </tr>\n",
       "    <tr>\n",
       "      <th>4</th>\n",
       "      <td>355-53-5943</td>\n",
       "      <td>A</td>\n",
       "      <td>Lagos</td>\n",
       "      <td>Member</td>\n",
       "      <td>Female</td>\n",
       "      <td>Electronic accessories</td>\n",
       "      <td>24782.4</td>\n",
       "      <td>6</td>\n",
       "      <td>7434.72</td>\n",
       "      <td>156129.12</td>\n",
       "      <td>2/25/2019</td>\n",
       "      <td>14:36</td>\n",
       "      <td>Epay</td>\n",
       "      <td>148694.4</td>\n",
       "      <td>4.761905</td>\n",
       "      <td>7434.72</td>\n",
       "      <td>5.8</td>\n",
       "    </tr>\n",
       "  </tbody>\n",
       "</table>\n",
       "</div>"
      ],
      "text/plain": [
       "    Invoice ID Branch   City Customer type  Gender            Product line  \\\n",
       "0  750-67-8428      A  Lagos        Member  Female       Health and beauty   \n",
       "1  631-41-3108      A  Lagos        Normal    Male      Home and lifestyle   \n",
       "2  123-19-1176      A  Lagos        Member    Male       Health and beauty   \n",
       "3  373-73-7910      A  Lagos        Normal    Male       Sports and travel   \n",
       "4  355-53-5943      A  Lagos        Member  Female  Electronic accessories   \n",
       "\n",
       "   Unit price  Quantity    Tax 5%      Total       Date   Time Payment  \\\n",
       "0     26888.4         7   9410.94  197629.74   1/5/2019  13:08    Epay   \n",
       "1     16678.8         7   5837.58  122589.18   3/3/2019  13:23    Card   \n",
       "2     20959.2         8   8383.68  176057.28  1/27/2019  20:33    Epay   \n",
       "3     31071.6         7  10875.06  228376.26   2/8/2019  10:37    Epay   \n",
       "4     24782.4         6   7434.72  156129.12  2/25/2019  14:36    Epay   \n",
       "\n",
       "       cogs  gross margin percentage  gross income  Rating  \n",
       "0  188218.8                 4.761905       9410.94     9.1  \n",
       "1  116751.6                 4.761905       5837.58     7.4  \n",
       "2  167673.6                 4.761905       8383.68     8.4  \n",
       "3  217501.2                 4.761905      10875.06     5.3  \n",
       "4  148694.4                 4.761905       7434.72     5.8  "
      ]
     },
     "execution_count": 7,
     "metadata": {},
     "output_type": "execute_result"
    }
   ],
   "source": [
    "comb_df.head()"
   ]
  },
  {
   "cell_type": "code",
   "execution_count": 8,
   "id": "4787944e",
   "metadata": {},
   "outputs": [
    {
     "data": {
      "text/html": [
       "<div>\n",
       "<style scoped>\n",
       "    .dataframe tbody tr th:only-of-type {\n",
       "        vertical-align: middle;\n",
       "    }\n",
       "\n",
       "    .dataframe tbody tr th {\n",
       "        vertical-align: top;\n",
       "    }\n",
       "\n",
       "    .dataframe thead th {\n",
       "        text-align: right;\n",
       "    }\n",
       "</style>\n",
       "<table border=\"1\" class=\"dataframe\">\n",
       "  <thead>\n",
       "    <tr style=\"text-align: right;\">\n",
       "      <th></th>\n",
       "      <th>Invoice ID</th>\n",
       "      <th>Branch</th>\n",
       "      <th>City</th>\n",
       "      <th>Customer type</th>\n",
       "      <th>Gender</th>\n",
       "      <th>Product line</th>\n",
       "      <th>Unit price</th>\n",
       "      <th>Quantity</th>\n",
       "      <th>Tax 5%</th>\n",
       "      <th>Total</th>\n",
       "      <th>Date</th>\n",
       "      <th>Time</th>\n",
       "      <th>Payment</th>\n",
       "      <th>cogs</th>\n",
       "      <th>gross margin percentage</th>\n",
       "      <th>gross income</th>\n",
       "      <th>Rating</th>\n",
       "    </tr>\n",
       "  </thead>\n",
       "  <tbody>\n",
       "    <tr>\n",
       "      <th>995</th>\n",
       "      <td>148-41-7930</td>\n",
       "      <td>C</td>\n",
       "      <td>Port Harcourt</td>\n",
       "      <td>Normal</td>\n",
       "      <td>Male</td>\n",
       "      <td>Health and beauty</td>\n",
       "      <td>35985.6</td>\n",
       "      <td>7</td>\n",
       "      <td>12594.96</td>\n",
       "      <td>264494.16</td>\n",
       "      <td>1/23/2019</td>\n",
       "      <td>10:33</td>\n",
       "      <td>Cash</td>\n",
       "      <td>251899.2</td>\n",
       "      <td>4.761905</td>\n",
       "      <td>12594.96</td>\n",
       "      <td>6.1</td>\n",
       "    </tr>\n",
       "    <tr>\n",
       "      <th>996</th>\n",
       "      <td>189-40-5216</td>\n",
       "      <td>C</td>\n",
       "      <td>Port Harcourt</td>\n",
       "      <td>Normal</td>\n",
       "      <td>Male</td>\n",
       "      <td>Electronic accessories</td>\n",
       "      <td>34693.2</td>\n",
       "      <td>7</td>\n",
       "      <td>12142.62</td>\n",
       "      <td>254995.02</td>\n",
       "      <td>1/9/2019</td>\n",
       "      <td>11:40</td>\n",
       "      <td>Cash</td>\n",
       "      <td>242852.4</td>\n",
       "      <td>4.761905</td>\n",
       "      <td>12142.62</td>\n",
       "      <td>6.0</td>\n",
       "    </tr>\n",
       "    <tr>\n",
       "      <th>997</th>\n",
       "      <td>267-62-7380</td>\n",
       "      <td>C</td>\n",
       "      <td>Port Harcourt</td>\n",
       "      <td>Member</td>\n",
       "      <td>Male</td>\n",
       "      <td>Electronic accessories</td>\n",
       "      <td>29642.4</td>\n",
       "      <td>10</td>\n",
       "      <td>14821.20</td>\n",
       "      <td>311245.20</td>\n",
       "      <td>3/29/2019</td>\n",
       "      <td>19:12</td>\n",
       "      <td>Epay</td>\n",
       "      <td>296424.0</td>\n",
       "      <td>4.761905</td>\n",
       "      <td>14821.20</td>\n",
       "      <td>4.3</td>\n",
       "    </tr>\n",
       "    <tr>\n",
       "      <th>998</th>\n",
       "      <td>652-49-6720</td>\n",
       "      <td>C</td>\n",
       "      <td>Port Harcourt</td>\n",
       "      <td>Member</td>\n",
       "      <td>Female</td>\n",
       "      <td>Electronic accessories</td>\n",
       "      <td>21942.0</td>\n",
       "      <td>1</td>\n",
       "      <td>1097.10</td>\n",
       "      <td>23039.10</td>\n",
       "      <td>2/18/2019</td>\n",
       "      <td>11:40</td>\n",
       "      <td>Epay</td>\n",
       "      <td>21942.0</td>\n",
       "      <td>4.761905</td>\n",
       "      <td>1097.10</td>\n",
       "      <td>5.9</td>\n",
       "    </tr>\n",
       "    <tr>\n",
       "      <th>999</th>\n",
       "      <td>233-67-5758</td>\n",
       "      <td>C</td>\n",
       "      <td>Port Harcourt</td>\n",
       "      <td>Normal</td>\n",
       "      <td>Male</td>\n",
       "      <td>Health and beauty</td>\n",
       "      <td>14526.0</td>\n",
       "      <td>1</td>\n",
       "      <td>726.30</td>\n",
       "      <td>15252.30</td>\n",
       "      <td>1/29/2019</td>\n",
       "      <td>13:46</td>\n",
       "      <td>Epay</td>\n",
       "      <td>14526.0</td>\n",
       "      <td>4.761905</td>\n",
       "      <td>726.30</td>\n",
       "      <td>6.2</td>\n",
       "    </tr>\n",
       "  </tbody>\n",
       "</table>\n",
       "</div>"
      ],
      "text/plain": [
       "      Invoice ID Branch           City Customer type  Gender  \\\n",
       "995  148-41-7930      C  Port Harcourt        Normal    Male   \n",
       "996  189-40-5216      C  Port Harcourt        Normal    Male   \n",
       "997  267-62-7380      C  Port Harcourt        Member    Male   \n",
       "998  652-49-6720      C  Port Harcourt        Member  Female   \n",
       "999  233-67-5758      C  Port Harcourt        Normal    Male   \n",
       "\n",
       "               Product line  Unit price  Quantity    Tax 5%      Total  \\\n",
       "995       Health and beauty     35985.6         7  12594.96  264494.16   \n",
       "996  Electronic accessories     34693.2         7  12142.62  254995.02   \n",
       "997  Electronic accessories     29642.4        10  14821.20  311245.20   \n",
       "998  Electronic accessories     21942.0         1   1097.10   23039.10   \n",
       "999       Health and beauty     14526.0         1    726.30   15252.30   \n",
       "\n",
       "          Date   Time Payment      cogs  gross margin percentage  \\\n",
       "995  1/23/2019  10:33    Cash  251899.2                 4.761905   \n",
       "996   1/9/2019  11:40    Cash  242852.4                 4.761905   \n",
       "997  3/29/2019  19:12    Epay  296424.0                 4.761905   \n",
       "998  2/18/2019  11:40    Epay   21942.0                 4.761905   \n",
       "999  1/29/2019  13:46    Epay   14526.0                 4.761905   \n",
       "\n",
       "     gross income  Rating  \n",
       "995      12594.96     6.1  \n",
       "996      12142.62     6.0  \n",
       "997      14821.20     4.3  \n",
       "998       1097.10     5.9  \n",
       "999        726.30     6.2  "
      ]
     },
     "execution_count": 8,
     "metadata": {},
     "output_type": "execute_result"
    }
   ],
   "source": [
    "comb_df.tail()"
   ]
  },
  {
   "cell_type": "code",
   "execution_count": 9,
   "id": "eea67e76",
   "metadata": {},
   "outputs": [
    {
     "name": "stdout",
     "output_type": "stream",
     "text": [
      "<class 'pandas.core.frame.DataFrame'>\n",
      "RangeIndex: 1000 entries, 0 to 999\n",
      "Data columns (total 17 columns):\n",
      " #   Column                   Non-Null Count  Dtype  \n",
      "---  ------                   --------------  -----  \n",
      " 0   Invoice ID               1000 non-null   object \n",
      " 1   Branch                   1000 non-null   object \n",
      " 2   City                     1000 non-null   object \n",
      " 3   Customer type            1000 non-null   object \n",
      " 4   Gender                   1000 non-null   object \n",
      " 5   Product line             1000 non-null   object \n",
      " 6   Unit price               1000 non-null   float64\n",
      " 7   Quantity                 1000 non-null   int64  \n",
      " 8   Tax 5%                   1000 non-null   float64\n",
      " 9   Total                    1000 non-null   float64\n",
      " 10  Date                     1000 non-null   object \n",
      " 11  Time                     1000 non-null   object \n",
      " 12  Payment                  1000 non-null   object \n",
      " 13  cogs                     1000 non-null   float64\n",
      " 14  gross margin percentage  1000 non-null   float64\n",
      " 15  gross income             1000 non-null   float64\n",
      " 16  Rating                   1000 non-null   float64\n",
      "dtypes: float64(7), int64(1), object(9)\n",
      "memory usage: 132.9+ KB\n"
     ]
    }
   ],
   "source": [
    "comb_df.info()"
   ]
  },
  {
   "cell_type": "markdown",
   "id": "dc1e95a2",
   "metadata": {},
   "source": [
    "#### Todo\n",
    "\n",
    "- We would not need the invoice ID column because it doesn't help us answer the questions we are interested in\n",
    "\n",
    "- We would need to rename Payment to Payment Type, City to Branch Location, cogs to Items Cost, total to Items Selling Price  so that it passes a clear message\n",
    "\n",
    "- We would need to convert date and time column to a proper data type"
   ]
  },
  {
   "cell_type": "code",
   "execution_count": 10,
   "id": "3c743f3b",
   "metadata": {},
   "outputs": [
    {
     "data": {
      "text/plain": [
       "Index(['Invoice ID', 'Branch', 'City', 'Customer type', 'Gender',\n",
       "       'Product line', 'Unit price', 'Quantity', 'Tax 5%', 'Total', 'Date',\n",
       "       'Time', 'Payment', 'cogs', 'gross margin percentage', 'gross income',\n",
       "       'Rating'],\n",
       "      dtype='object')"
      ]
     },
     "execution_count": 10,
     "metadata": {},
     "output_type": "execute_result"
    }
   ],
   "source": [
    "comb_df.columns"
   ]
  },
  {
   "cell_type": "code",
   "execution_count": 11,
   "id": "fb4f5183",
   "metadata": {},
   "outputs": [
    {
     "data": {
      "text/plain": [
       "(1000, 17)"
      ]
     },
     "execution_count": 11,
     "metadata": {},
     "output_type": "execute_result"
    }
   ],
   "source": [
    "comb_df.shape"
   ]
  },
  {
   "cell_type": "code",
   "execution_count": 13,
   "id": "669a0e98",
   "metadata": {},
   "outputs": [],
   "source": [
    "## Categorize the columns into categorical and numerical\n",
    "\n",
    "cat_columns = [i for i in comb_df.select_dtypes(include=['object']).columns]\n",
    "num_columns = [i for i in comb_df.select_dtypes(include=['int64', 'float64']).columns]"
   ]
  },
  {
   "cell_type": "code",
   "execution_count": 14,
   "id": "1e9ff0f9",
   "metadata": {},
   "outputs": [
    {
     "name": "stdout",
     "output_type": "stream",
     "text": [
      "['Invoice ID', 'Branch', 'City', 'Customer type', 'Gender', 'Product line', 'Date', 'Time', 'Payment']\n"
     ]
    }
   ],
   "source": [
    "print(cat_columns)"
   ]
  },
  {
   "cell_type": "code",
   "execution_count": 15,
   "id": "9968abb9",
   "metadata": {
    "scrolled": true
   },
   "outputs": [
    {
     "name": "stdout",
     "output_type": "stream",
     "text": [
      "['Unit price', 'Quantity', 'Tax 5%', 'Total', 'cogs', 'gross margin percentage', 'gross income', 'Rating']\n"
     ]
    }
   ],
   "source": [
    "print(num_columns)"
   ]
  },
  {
   "cell_type": "code",
   "execution_count": 16,
   "id": "5befdbe8",
   "metadata": {
    "scrolled": true
   },
   "outputs": [
    {
     "data": {
      "text/html": [
       "<div>\n",
       "<style scoped>\n",
       "    .dataframe tbody tr th:only-of-type {\n",
       "        vertical-align: middle;\n",
       "    }\n",
       "\n",
       "    .dataframe tbody tr th {\n",
       "        vertical-align: top;\n",
       "    }\n",
       "\n",
       "    .dataframe thead th {\n",
       "        text-align: right;\n",
       "    }\n",
       "</style>\n",
       "<table border=\"1\" class=\"dataframe\">\n",
       "  <thead>\n",
       "    <tr style=\"text-align: right;\">\n",
       "      <th></th>\n",
       "      <th>Unit price</th>\n",
       "      <th>Quantity</th>\n",
       "      <th>Tax 5%</th>\n",
       "      <th>Total</th>\n",
       "      <th>cogs</th>\n",
       "      <th>gross margin percentage</th>\n",
       "      <th>gross income</th>\n",
       "      <th>Rating</th>\n",
       "    </tr>\n",
       "  </thead>\n",
       "  <tbody>\n",
       "    <tr>\n",
       "      <th>count</th>\n",
       "      <td>1000.000000</td>\n",
       "      <td>1000.000000</td>\n",
       "      <td>1000.000000</td>\n",
       "      <td>1000.000000</td>\n",
       "      <td>1000.000000</td>\n",
       "      <td>1000.000000</td>\n",
       "      <td>1000.000000</td>\n",
       "      <td>1000.00000</td>\n",
       "    </tr>\n",
       "    <tr>\n",
       "      <th>mean</th>\n",
       "      <td>20041.966800</td>\n",
       "      <td>5.510000</td>\n",
       "      <td>5536.572840</td>\n",
       "      <td>116268.029640</td>\n",
       "      <td>110731.456800</td>\n",
       "      <td>4.761905</td>\n",
       "      <td>5536.572840</td>\n",
       "      <td>6.97270</td>\n",
       "    </tr>\n",
       "    <tr>\n",
       "      <th>std</th>\n",
       "      <td>9538.066205</td>\n",
       "      <td>2.923431</td>\n",
       "      <td>4215.177173</td>\n",
       "      <td>88518.720636</td>\n",
       "      <td>84303.543463</td>\n",
       "      <td>0.000000</td>\n",
       "      <td>4215.177173</td>\n",
       "      <td>1.71858</td>\n",
       "    </tr>\n",
       "    <tr>\n",
       "      <th>min</th>\n",
       "      <td>3628.800000</td>\n",
       "      <td>1.000000</td>\n",
       "      <td>183.060000</td>\n",
       "      <td>3844.260000</td>\n",
       "      <td>3661.200000</td>\n",
       "      <td>4.761905</td>\n",
       "      <td>183.060000</td>\n",
       "      <td>4.00000</td>\n",
       "    </tr>\n",
       "    <tr>\n",
       "      <th>25%</th>\n",
       "      <td>11835.000000</td>\n",
       "      <td>3.000000</td>\n",
       "      <td>2132.955000</td>\n",
       "      <td>44792.055000</td>\n",
       "      <td>42659.100000</td>\n",
       "      <td>4.761905</td>\n",
       "      <td>2132.955000</td>\n",
       "      <td>5.50000</td>\n",
       "    </tr>\n",
       "    <tr>\n",
       "      <th>50%</th>\n",
       "      <td>19882.800000</td>\n",
       "      <td>5.000000</td>\n",
       "      <td>4351.680000</td>\n",
       "      <td>91385.280000</td>\n",
       "      <td>87033.600000</td>\n",
       "      <td>4.761905</td>\n",
       "      <td>4351.680000</td>\n",
       "      <td>7.00000</td>\n",
       "    </tr>\n",
       "    <tr>\n",
       "      <th>75%</th>\n",
       "      <td>28056.600000</td>\n",
       "      <td>8.000000</td>\n",
       "      <td>8080.290000</td>\n",
       "      <td>169686.090000</td>\n",
       "      <td>161605.800000</td>\n",
       "      <td>4.761905</td>\n",
       "      <td>8080.290000</td>\n",
       "      <td>8.50000</td>\n",
       "    </tr>\n",
       "    <tr>\n",
       "      <th>max</th>\n",
       "      <td>35985.600000</td>\n",
       "      <td>10.000000</td>\n",
       "      <td>17874.000000</td>\n",
       "      <td>375354.000000</td>\n",
       "      <td>357480.000000</td>\n",
       "      <td>4.761905</td>\n",
       "      <td>17874.000000</td>\n",
       "      <td>10.00000</td>\n",
       "    </tr>\n",
       "  </tbody>\n",
       "</table>\n",
       "</div>"
      ],
      "text/plain": [
       "         Unit price     Quantity        Tax 5%          Total           cogs  \\\n",
       "count   1000.000000  1000.000000   1000.000000    1000.000000    1000.000000   \n",
       "mean   20041.966800     5.510000   5536.572840  116268.029640  110731.456800   \n",
       "std     9538.066205     2.923431   4215.177173   88518.720636   84303.543463   \n",
       "min     3628.800000     1.000000    183.060000    3844.260000    3661.200000   \n",
       "25%    11835.000000     3.000000   2132.955000   44792.055000   42659.100000   \n",
       "50%    19882.800000     5.000000   4351.680000   91385.280000   87033.600000   \n",
       "75%    28056.600000     8.000000   8080.290000  169686.090000  161605.800000   \n",
       "max    35985.600000    10.000000  17874.000000  375354.000000  357480.000000   \n",
       "\n",
       "       gross margin percentage  gross income      Rating  \n",
       "count              1000.000000   1000.000000  1000.00000  \n",
       "mean                  4.761905   5536.572840     6.97270  \n",
       "std                   0.000000   4215.177173     1.71858  \n",
       "min                   4.761905    183.060000     4.00000  \n",
       "25%                   4.761905   2132.955000     5.50000  \n",
       "50%                   4.761905   4351.680000     7.00000  \n",
       "75%                   4.761905   8080.290000     8.50000  \n",
       "max                   4.761905  17874.000000    10.00000  "
      ]
     },
     "execution_count": 16,
     "metadata": {},
     "output_type": "execute_result"
    }
   ],
   "source": [
    "# summary stats of the data\n",
    "comb_df.describe()"
   ]
  },
  {
   "cell_type": "markdown",
   "id": "1f4175ba",
   "metadata": {},
   "source": [
    "Selecting/Indexing DataFrames"
   ]
  },
  {
   "cell_type": "code",
   "execution_count": null,
   "id": "210e6633",
   "metadata": {},
   "outputs": [],
   "source": []
  },
  {
   "cell_type": "markdown",
   "id": "e18fc13d",
   "metadata": {},
   "source": [
    "Filtering Pandas DataFrames - Unrelated to the Exercise"
   ]
  },
  {
   "cell_type": "code",
   "execution_count": null,
   "id": "6d6e2606",
   "metadata": {},
   "outputs": [],
   "source": [
    "cash_df = comb_df[comb_df['Payment'] == 'Cash']\n",
    "\n",
    "cash_df = cash_df.query(\"Payment == Cash\")\n",
    "                        \n",
    "# combining multiple conditions\n",
    "\n",
    "cash_df = cash_df.query(\"Payment == 'Cash' and Branch == 'Lagos'\")"
   ]
  },
  {
   "cell_type": "markdown",
   "id": "657b77dc",
   "metadata": {},
   "source": [
    "- We need to confirm the data distribution with a plot\n",
    "\n",
    "- gross margin percentage is a scalar - 4.76\n",
    "\n",
    "- Looks like there are data inconsistencies\n",
    "\n",
    "- rating values range from a min of 4 to max of 10. We can categorize it for easier analysis"
   ]
  },
  {
   "cell_type": "code",
   "execution_count": 17,
   "id": "79275c9a",
   "metadata": {},
   "outputs": [
    {
     "data": {
      "image/png": "[encoded data removed]",
      "text/plain": [
       "<Figure size 640x480 with 1 Axes>"
      ]
     },
     "metadata": {},
     "output_type": "display_data"
    },
    {
     "data": {
      "image/png": "[encoded data removed]",
      "text/plain": [
       "<Figure size 640x480 with 1 Axes>"
      ]
     },
     "metadata": {},
     "output_type": "display_data"
    },
    {
     "data": {
      "image/png": "[encoded data removed]",
      "text/plain": [
       "<Figure size 640x480 with 1 Axes>"
      ]
     },
     "metadata": {},
     "output_type": "display_data"
    },
    {
     "data": {
      "image/png": "[encoded data removed]",
      "text/plain": [
       "<Figure size 640x480 with 1 Axes>"
      ]
     },
     "metadata": {},
     "output_type": "display_data"
    },
    {
     "data": {
      "image/png": "[encoded data removed]",
      "text/plain": [
       "<Figure size 640x480 with 1 Axes>"
      ]
     },
     "metadata": {},
     "output_type": "display_data"
    },
    {
     "data": {
      "image/png": "[encoded data removed]",
      "text/plain": [
       "<Figure size 640x480 with 1 Axes>"
      ]
     },
     "metadata": {},
     "output_type": "display_data"
    },
    {
     "data": {
      "image/png": "[encoded data removed]",
      "text/plain": [
       "<Figure size 640x480 with 1 Axes>"
      ]
     },
     "metadata": {},
     "output_type": "display_data"
    },
    {
     "data": {
      "image/png": "[encoded data removed]",
      "text/plain": [
       "<Figure size 640x480 with 1 Axes>"
      ]
     },
     "metadata": {},
     "output_type": "display_data"
    }
   ],
   "source": [
    "# Density/histogram plot of each numerical column\n",
    "\n",
    "for column in num_columns:\n",
    "    plt.hist(comb_df[column], color='grey', edgecolor='black')\n",
    "    plt.title(f'Histogram of {column}')\n",
    "    plt.show()"
   ]
  },
  {
   "cell_type": "markdown",
   "id": "98f817c1",
   "metadata": {},
   "source": [
    "- Rating, Unit Price and Quantity show a distribution that is almost uniform indicating that all values are equally likely. \n",
    "\n",
    "- Tax, Total cogs and gross income show a distribution that is right skewed indicating that outliers i.e fewer records of high tax, total, cogs and gross income\n",
    "\n",
    "- The distribution help us explain the outcome of our analysis"
   ]
  },
  {
   "cell_type": "code",
   "execution_count": 35,
   "id": "a9e1b545",
   "metadata": {},
   "outputs": [
    {
     "data": {
      "image/png": "[encoded data removed]",
      "text/plain": [
       "<Figure size 640x480 with 1 Axes>"
      ]
     },
     "metadata": {},
     "output_type": "display_data"
    },
    {
     "data": {
      "image/png": "[encoded data removed]",
      "text/plain": [
       "<Figure size 640x480 with 1 Axes>"
      ]
     },
     "metadata": {},
     "output_type": "display_data"
    },
    {
     "data": {
      "image/png": "[encoded data removed]",
      "text/plain": [
       "<Figure size 640x480 with 1 Axes>"
      ]
     },
     "metadata": {},
     "output_type": "display_data"
    },
    {
     "data": {
      "image/png": "[encoded data removed]",
      "text/plain": [
       "<Figure size 640x480 with 1 Axes>"
      ]
     },
     "metadata": {},
     "output_type": "display_data"
    },
    {
     "data": {
      "image/png": "[encoded data removed]",
      "text/plain": [
       "<Figure size 640x480 with 1 Axes>"
      ]
     },
     "metadata": {},
     "output_type": "display_data"
    },
    {
     "data": {
      "image/png": "[encoded data removed]",
      "text/plain": [
       "<Figure size 640x480 with 1 Axes>"
      ]
     },
     "metadata": {},
     "output_type": "display_data"
    }
   ],
   "source": [
    "## Distribution of values for categorical data\n",
    "\n",
    "## remove Novice ID \n",
    "# cat_columns.remove('Invoice ID')\n",
    "# cat_columns.remove('Date')\n",
    "# cat_columns.remove('Time')\n",
    "\n",
    "\n",
    "for column in cat_columns:\n",
    "    sorted_categories = comb_df[column].value_counts().index\n",
    "    sb.countplot(y=column, data=comb_df, order=sorted_categories, palette='Greys_r') \n",
    "    plt.title(f'Countplot of {column}')\n",
    "    plt.show()"
   ]
  },
  {
   "cell_type": "markdown",
   "id": "0e7b5801",
   "metadata": {},
   "source": [
    " Some of the categories have count values that are close to each other, let's use the value counts method to better see the difference"
   ]
  },
  {
   "cell_type": "code",
   "execution_count": 46,
   "id": "12017f25",
   "metadata": {},
   "outputs": [
    {
     "name": "stdout",
     "output_type": "stream",
     "text": [
      "Branch\n",
      "A    34.0\n",
      "B    33.2\n",
      "C    32.8\n",
      "Name: count, dtype: float64\n",
      "-----------------------\n",
      "City\n",
      "Lagos            34.0\n",
      "Abuja            33.2\n",
      "Port Harcourt    32.8\n",
      "Name: count, dtype: float64\n",
      "-----------------------\n",
      "Customer type\n",
      "Member    50.1\n",
      "Normal    49.9\n",
      "Name: count, dtype: float64\n",
      "-----------------------\n",
      "Gender\n",
      "Female    50.1\n",
      "Male      49.9\n",
      "Name: count, dtype: float64\n",
      "-----------------------\n",
      "Product line\n",
      "Fashion accessories       17.8\n",
      "Food and beverages        17.4\n",
      "Electronic accessories    17.0\n",
      "Sports and travel         16.6\n",
      "Home and lifestyle        16.0\n",
      "Health and beauty         15.2\n",
      "Name: count, dtype: float64\n",
      "-----------------------\n",
      "Payment\n",
      "Epay    34.5\n",
      "Cash    34.4\n",
      "Card    31.1\n",
      "Name: count, dtype: float64\n",
      "-----------------------\n"
     ]
    }
   ],
   "source": [
    "\n",
    "for col in cat_columns:\n",
    "    print((comb_df[col].value_counts().sort_values(ascending=False)/len(comb_df)) * 100)\n",
    "    print('-----------------------')"
   ]
  },
  {
   "cell_type": "markdown",
   "id": "280f9f1b",
   "metadata": {},
   "source": [
    "The categories show similar frequency for each categorical data"
   ]
  },
  {
   "cell_type": "markdown",
   "id": "ad37f031",
   "metadata": {},
   "source": [
    "#### Data Cleaning/Wrangling\n",
    "\n",
    "\n",
    "- Duplicate values\n",
    "\n",
    "- Null values\n",
    "\n",
    "- Incorrect data/ data types\n",
    "\n",
    "- Remove Unwanted Columns\n",
    "\n",
    "- Rename columns\n",
    "\n",
    "- Outliers\n",
    "\n",
    "- other inconsistencies found during data exploration"
   ]
  },
  {
   "cell_type": "code",
   "execution_count": 47,
   "id": "ccbc2141",
   "metadata": {},
   "outputs": [
    {
     "data": {
      "text/plain": [
       "0"
      ]
     },
     "execution_count": 47,
     "metadata": {},
     "output_type": "execute_result"
    }
   ],
   "source": [
    "comb_df.duplicated().sum()"
   ]
  },
  {
   "cell_type": "code",
   "execution_count": 48,
   "id": "0f6444e8",
   "metadata": {},
   "outputs": [
    {
     "data": {
      "text/plain": [
       "Invoice ID                 0\n",
       "Branch                     0\n",
       "City                       0\n",
       "Customer type              0\n",
       "Gender                     0\n",
       "Product line               0\n",
       "Unit price                 0\n",
       "Quantity                   0\n",
       "Tax 5%                     0\n",
       "Total                      0\n",
       "Date                       0\n",
       "Time                       0\n",
       "Payment                    0\n",
       "cogs                       0\n",
       "gross margin percentage    0\n",
       "gross income               0\n",
       "Rating                     0\n",
       "dtype: int64"
      ]
     },
     "execution_count": 48,
     "metadata": {},
     "output_type": "execute_result"
    }
   ],
   "source": [
    "comb_df.isnull().sum()"
   ]
  },
  {
   "cell_type": "code",
   "execution_count": 49,
   "id": "7a1711b7",
   "metadata": {},
   "outputs": [
    {
     "name": "stdout",
     "output_type": "stream",
     "text": [
      "<class 'pandas.core.frame.DataFrame'>\n",
      "RangeIndex: 1000 entries, 0 to 999\n",
      "Data columns (total 17 columns):\n",
      " #   Column                   Non-Null Count  Dtype  \n",
      "---  ------                   --------------  -----  \n",
      " 0   Invoice ID               1000 non-null   object \n",
      " 1   Branch                   1000 non-null   object \n",
      " 2   City                     1000 non-null   object \n",
      " 3   Customer type            1000 non-null   object \n",
      " 4   Gender                   1000 non-null   object \n",
      " 5   Product line             1000 non-null   object \n",
      " 6   Unit price               1000 non-null   float64\n",
      " 7   Quantity                 1000 non-null   int64  \n",
      " 8   Tax 5%                   1000 non-null   float64\n",
      " 9   Total                    1000 non-null   float64\n",
      " 10  Date                     1000 non-null   object \n",
      " 11  Time                     1000 non-null   object \n",
      " 12  Payment                  1000 non-null   object \n",
      " 13  cogs                     1000 non-null   float64\n",
      " 14  gross margin percentage  1000 non-null   float64\n",
      " 15  gross income             1000 non-null   float64\n",
      " 16  Rating                   1000 non-null   float64\n",
      "dtypes: float64(7), int64(1), object(9)\n",
      "memory usage: 132.9+ KB\n"
     ]
    }
   ],
   "source": [
    "# check data type of columns\n",
    "comb_df.info()"
   ]
  },
  {
   "cell_type": "code",
   "execution_count": 50,
   "id": "128f6ebf",
   "metadata": {},
   "outputs": [],
   "source": [
    "# create a copy of the data before we commence munging\n",
    "\n",
    "comb_df_copy = comb_df.copy()"
   ]
  },
  {
   "cell_type": "code",
   "execution_count": 51,
   "id": "8c12c886",
   "metadata": {},
   "outputs": [],
   "source": [
    "# drop unnecessary columns\n",
    "\n",
    "comb_df.drop('Invoice ID', axis=1 ,inplace=True)"
   ]
  },
  {
   "cell_type": "code",
   "execution_count": 52,
   "id": "9457f24d",
   "metadata": {},
   "outputs": [
    {
     "data": {
      "text/html": [
       "<div>\n",
       "<style scoped>\n",
       "    .dataframe tbody tr th:only-of-type {\n",
       "        vertical-align: middle;\n",
       "    }\n",
       "\n",
       "    .dataframe tbody tr th {\n",
       "        vertical-align: top;\n",
       "    }\n",
       "\n",
       "    .dataframe thead th {\n",
       "        text-align: right;\n",
       "    }\n",
       "</style>\n",
       "<table border=\"1\" class=\"dataframe\">\n",
       "  <thead>\n",
       "    <tr style=\"text-align: right;\">\n",
       "      <th></th>\n",
       "      <th>Branch</th>\n",
       "      <th>City</th>\n",
       "      <th>Customer type</th>\n",
       "      <th>Gender</th>\n",
       "      <th>Product line</th>\n",
       "      <th>Unit price</th>\n",
       "      <th>Quantity</th>\n",
       "      <th>Tax 5%</th>\n",
       "      <th>Total</th>\n",
       "      <th>Date</th>\n",
       "      <th>Time</th>\n",
       "      <th>Payment</th>\n",
       "      <th>cogs</th>\n",
       "      <th>gross margin percentage</th>\n",
       "      <th>gross income</th>\n",
       "      <th>Rating</th>\n",
       "    </tr>\n",
       "  </thead>\n",
       "  <tbody>\n",
       "    <tr>\n",
       "      <th>0</th>\n",
       "      <td>A</td>\n",
       "      <td>Lagos</td>\n",
       "      <td>Member</td>\n",
       "      <td>Female</td>\n",
       "      <td>Health and beauty</td>\n",
       "      <td>26888.4</td>\n",
       "      <td>7</td>\n",
       "      <td>9410.94</td>\n",
       "      <td>197629.74</td>\n",
       "      <td>1/5/2019</td>\n",
       "      <td>13:08</td>\n",
       "      <td>Epay</td>\n",
       "      <td>188218.8</td>\n",
       "      <td>4.761905</td>\n",
       "      <td>9410.94</td>\n",
       "      <td>9.1</td>\n",
       "    </tr>\n",
       "    <tr>\n",
       "      <th>1</th>\n",
       "      <td>A</td>\n",
       "      <td>Lagos</td>\n",
       "      <td>Normal</td>\n",
       "      <td>Male</td>\n",
       "      <td>Home and lifestyle</td>\n",
       "      <td>16678.8</td>\n",
       "      <td>7</td>\n",
       "      <td>5837.58</td>\n",
       "      <td>122589.18</td>\n",
       "      <td>3/3/2019</td>\n",
       "      <td>13:23</td>\n",
       "      <td>Card</td>\n",
       "      <td>116751.6</td>\n",
       "      <td>4.761905</td>\n",
       "      <td>5837.58</td>\n",
       "      <td>7.4</td>\n",
       "    </tr>\n",
       "    <tr>\n",
       "      <th>2</th>\n",
       "      <td>A</td>\n",
       "      <td>Lagos</td>\n",
       "      <td>Member</td>\n",
       "      <td>Male</td>\n",
       "      <td>Health and beauty</td>\n",
       "      <td>20959.2</td>\n",
       "      <td>8</td>\n",
       "      <td>8383.68</td>\n",
       "      <td>176057.28</td>\n",
       "      <td>1/27/2019</td>\n",
       "      <td>20:33</td>\n",
       "      <td>Epay</td>\n",
       "      <td>167673.6</td>\n",
       "      <td>4.761905</td>\n",
       "      <td>8383.68</td>\n",
       "      <td>8.4</td>\n",
       "    </tr>\n",
       "    <tr>\n",
       "      <th>3</th>\n",
       "      <td>A</td>\n",
       "      <td>Lagos</td>\n",
       "      <td>Normal</td>\n",
       "      <td>Male</td>\n",
       "      <td>Sports and travel</td>\n",
       "      <td>31071.6</td>\n",
       "      <td>7</td>\n",
       "      <td>10875.06</td>\n",
       "      <td>228376.26</td>\n",
       "      <td>2/8/2019</td>\n",
       "      <td>10:37</td>\n",
       "      <td>Epay</td>\n",
       "      <td>217501.2</td>\n",
       "      <td>4.761905</td>\n",
       "      <td>10875.06</td>\n",
       "      <td>5.3</td>\n",
       "    </tr>\n",
       "    <tr>\n",
       "      <th>4</th>\n",
       "      <td>A</td>\n",
       "      <td>Lagos</td>\n",
       "      <td>Member</td>\n",
       "      <td>Female</td>\n",
       "      <td>Electronic accessories</td>\n",
       "      <td>24782.4</td>\n",
       "      <td>6</td>\n",
       "      <td>7434.72</td>\n",
       "      <td>156129.12</td>\n",
       "      <td>2/25/2019</td>\n",
       "      <td>14:36</td>\n",
       "      <td>Epay</td>\n",
       "      <td>148694.4</td>\n",
       "      <td>4.761905</td>\n",
       "      <td>7434.72</td>\n",
       "      <td>5.8</td>\n",
       "    </tr>\n",
       "  </tbody>\n",
       "</table>\n",
       "</div>"
      ],
      "text/plain": [
       "  Branch   City Customer type  Gender            Product line  Unit price  \\\n",
       "0      A  Lagos        Member  Female       Health and beauty     26888.4   \n",
       "1      A  Lagos        Normal    Male      Home and lifestyle     16678.8   \n",
       "2      A  Lagos        Member    Male       Health and beauty     20959.2   \n",
       "3      A  Lagos        Normal    Male       Sports and travel     31071.6   \n",
       "4      A  Lagos        Member  Female  Electronic accessories     24782.4   \n",
       "\n",
       "   Quantity    Tax 5%      Total       Date   Time Payment      cogs  \\\n",
       "0         7   9410.94  197629.74   1/5/2019  13:08    Epay  188218.8   \n",
       "1         7   5837.58  122589.18   3/3/2019  13:23    Card  116751.6   \n",
       "2         8   8383.68  176057.28  1/27/2019  20:33    Epay  167673.6   \n",
       "3         7  10875.06  228376.26   2/8/2019  10:37    Epay  217501.2   \n",
       "4         6   7434.72  156129.12  2/25/2019  14:36    Epay  148694.4   \n",
       "\n",
       "   gross margin percentage  gross income  Rating  \n",
       "0                 4.761905       9410.94     9.1  \n",
       "1                 4.761905       5837.58     7.4  \n",
       "2                 4.761905       8383.68     8.4  \n",
       "3                 4.761905      10875.06     5.3  \n",
       "4                 4.761905       7434.72     5.8  "
      ]
     },
     "execution_count": 52,
     "metadata": {},
     "output_type": "execute_result"
    }
   ],
   "source": [
    "comb_df.head()"
   ]
  },
  {
   "cell_type": "code",
   "execution_count": 53,
   "id": "a0986fcb",
   "metadata": {},
   "outputs": [],
   "source": [
    "# rename columns \n",
    "# Payment to Payment Type, City to Branch Location, cogs to Items Cost, total to Items Selling Price \n",
    "\n",
    "comb_df.rename(columns= \n",
    "               {'Payment' : 'Payment Type', \n",
    "                'City' : 'Branch Location', 'cogs' : 'Items Cost', \n",
    "                'Total' : 'Items Selling Pric'}, inplace=True)"
   ]
  },
  {
   "cell_type": "code",
   "execution_count": 54,
   "id": "b1d7e273",
   "metadata": {},
   "outputs": [
    {
     "name": "stdout",
     "output_type": "stream",
     "text": [
      "<class 'pandas.core.frame.DataFrame'>\n",
      "RangeIndex: 1000 entries, 0 to 999\n",
      "Data columns (total 16 columns):\n",
      " #   Column                   Non-Null Count  Dtype  \n",
      "---  ------                   --------------  -----  \n",
      " 0   Branch                   1000 non-null   object \n",
      " 1   Branch Location          1000 non-null   object \n",
      " 2   Customer type            1000 non-null   object \n",
      " 3   Gender                   1000 non-null   object \n",
      " 4   Product line             1000 non-null   object \n",
      " 5   Unit price               1000 non-null   float64\n",
      " 6   Quantity                 1000 non-null   int64  \n",
      " 7   Tax 5%                   1000 non-null   float64\n",
      " 8   Items Selling Pric       1000 non-null   float64\n",
      " 9   Date                     1000 non-null   object \n",
      " 10  Time                     1000 non-null   object \n",
      " 11  Payment Type             1000 non-null   object \n",
      " 12  Items Cost               1000 non-null   float64\n",
      " 13  gross margin percentage  1000 non-null   float64\n",
      " 14  gross income             1000 non-null   float64\n",
      " 15  Rating                   1000 non-null   float64\n",
      "dtypes: float64(7), int64(1), object(8)\n",
      "memory usage: 125.1+ KB\n"
     ]
    }
   ],
   "source": [
    "comb_df.info()"
   ]
  },
  {
   "cell_type": "code",
   "execution_count": 55,
   "id": "7a3cb28f",
   "metadata": {},
   "outputs": [],
   "source": [
    "comb_df.rename(columns= {'Items Selling Pric': 'Items Selling Price'}, inplace=True)"
   ]
  },
  {
   "cell_type": "code",
   "execution_count": 57,
   "id": "e7c5013e",
   "metadata": {},
   "outputs": [],
   "source": [
    "## combine date and time column to a single column\n",
    "\n",
    "comb_df['DateTime'] = comb_df['Date'] + ' ' + comb_df['Time']"
   ]
  },
  {
   "cell_type": "code",
   "execution_count": 58,
   "id": "cdd92068",
   "metadata": {},
   "outputs": [
    {
     "data": {
      "text/html": [
       "<div>\n",
       "<style scoped>\n",
       "    .dataframe tbody tr th:only-of-type {\n",
       "        vertical-align: middle;\n",
       "    }\n",
       "\n",
       "    .dataframe tbody tr th {\n",
       "        vertical-align: top;\n",
       "    }\n",
       "\n",
       "    .dataframe thead th {\n",
       "        text-align: right;\n",
       "    }\n",
       "</style>\n",
       "<table border=\"1\" class=\"dataframe\">\n",
       "  <thead>\n",
       "    <tr style=\"text-align: right;\">\n",
       "      <th></th>\n",
       "      <th>Branch</th>\n",
       "      <th>Branch Location</th>\n",
       "      <th>Customer type</th>\n",
       "      <th>Gender</th>\n",
       "      <th>Product line</th>\n",
       "      <th>Unit price</th>\n",
       "      <th>Quantity</th>\n",
       "      <th>Tax 5%</th>\n",
       "      <th>Items Selling Price</th>\n",
       "      <th>Date</th>\n",
       "      <th>Time</th>\n",
       "      <th>Payment Type</th>\n",
       "      <th>Items Cost</th>\n",
       "      <th>gross margin percentage</th>\n",
       "      <th>gross income</th>\n",
       "      <th>Rating</th>\n",
       "      <th>DateTime</th>\n",
       "    </tr>\n",
       "  </thead>\n",
       "  <tbody>\n",
       "    <tr>\n",
       "      <th>0</th>\n",
       "      <td>A</td>\n",
       "      <td>Lagos</td>\n",
       "      <td>Member</td>\n",
       "      <td>Female</td>\n",
       "      <td>Health and beauty</td>\n",
       "      <td>26888.4</td>\n",
       "      <td>7</td>\n",
       "      <td>9410.94</td>\n",
       "      <td>197629.74</td>\n",
       "      <td>1/5/2019</td>\n",
       "      <td>13:08</td>\n",
       "      <td>Epay</td>\n",
       "      <td>188218.8</td>\n",
       "      <td>4.761905</td>\n",
       "      <td>9410.94</td>\n",
       "      <td>9.1</td>\n",
       "      <td>1/5/2019 13:08</td>\n",
       "    </tr>\n",
       "    <tr>\n",
       "      <th>1</th>\n",
       "      <td>A</td>\n",
       "      <td>Lagos</td>\n",
       "      <td>Normal</td>\n",
       "      <td>Male</td>\n",
       "      <td>Home and lifestyle</td>\n",
       "      <td>16678.8</td>\n",
       "      <td>7</td>\n",
       "      <td>5837.58</td>\n",
       "      <td>122589.18</td>\n",
       "      <td>3/3/2019</td>\n",
       "      <td>13:23</td>\n",
       "      <td>Card</td>\n",
       "      <td>116751.6</td>\n",
       "      <td>4.761905</td>\n",
       "      <td>5837.58</td>\n",
       "      <td>7.4</td>\n",
       "      <td>3/3/2019 13:23</td>\n",
       "    </tr>\n",
       "    <tr>\n",
       "      <th>2</th>\n",
       "      <td>A</td>\n",
       "      <td>Lagos</td>\n",
       "      <td>Member</td>\n",
       "      <td>Male</td>\n",
       "      <td>Health and beauty</td>\n",
       "      <td>20959.2</td>\n",
       "      <td>8</td>\n",
       "      <td>8383.68</td>\n",
       "      <td>176057.28</td>\n",
       "      <td>1/27/2019</td>\n",
       "      <td>20:33</td>\n",
       "      <td>Epay</td>\n",
       "      <td>167673.6</td>\n",
       "      <td>4.761905</td>\n",
       "      <td>8383.68</td>\n",
       "      <td>8.4</td>\n",
       "      <td>1/27/2019 20:33</td>\n",
       "    </tr>\n",
       "    <tr>\n",
       "      <th>3</th>\n",
       "      <td>A</td>\n",
       "      <td>Lagos</td>\n",
       "      <td>Normal</td>\n",
       "      <td>Male</td>\n",
       "      <td>Sports and travel</td>\n",
       "      <td>31071.6</td>\n",
       "      <td>7</td>\n",
       "      <td>10875.06</td>\n",
       "      <td>228376.26</td>\n",
       "      <td>2/8/2019</td>\n",
       "      <td>10:37</td>\n",
       "      <td>Epay</td>\n",
       "      <td>217501.2</td>\n",
       "      <td>4.761905</td>\n",
       "      <td>10875.06</td>\n",
       "      <td>5.3</td>\n",
       "      <td>2/8/2019 10:37</td>\n",
       "    </tr>\n",
       "    <tr>\n",
       "      <th>4</th>\n",
       "      <td>A</td>\n",
       "      <td>Lagos</td>\n",
       "      <td>Member</td>\n",
       "      <td>Female</td>\n",
       "      <td>Electronic accessories</td>\n",
       "      <td>24782.4</td>\n",
       "      <td>6</td>\n",
       "      <td>7434.72</td>\n",
       "      <td>156129.12</td>\n",
       "      <td>2/25/2019</td>\n",
       "      <td>14:36</td>\n",
       "      <td>Epay</td>\n",
       "      <td>148694.4</td>\n",
       "      <td>4.761905</td>\n",
       "      <td>7434.72</td>\n",
       "      <td>5.8</td>\n",
       "      <td>2/25/2019 14:36</td>\n",
       "    </tr>\n",
       "  </tbody>\n",
       "</table>\n",
       "</div>"
      ],
      "text/plain": [
       "  Branch Branch Location Customer type  Gender            Product line  \\\n",
       "0      A           Lagos        Member  Female       Health and beauty   \n",
       "1      A           Lagos        Normal    Male      Home and lifestyle   \n",
       "2      A           Lagos        Member    Male       Health and beauty   \n",
       "3      A           Lagos        Normal    Male       Sports and travel   \n",
       "4      A           Lagos        Member  Female  Electronic accessories   \n",
       "\n",
       "   Unit price  Quantity    Tax 5%  Items Selling Price       Date   Time  \\\n",
       "0     26888.4         7   9410.94            197629.74   1/5/2019  13:08   \n",
       "1     16678.8         7   5837.58            122589.18   3/3/2019  13:23   \n",
       "2     20959.2         8   8383.68            176057.28  1/27/2019  20:33   \n",
       "3     31071.6         7  10875.06            228376.26   2/8/2019  10:37   \n",
       "4     24782.4         6   7434.72            156129.12  2/25/2019  14:36   \n",
       "\n",
       "  Payment Type  Items Cost  gross margin percentage  gross income  Rating  \\\n",
       "0         Epay    188218.8                 4.761905       9410.94     9.1   \n",
       "1         Card    116751.6                 4.761905       5837.58     7.4   \n",
       "2         Epay    167673.6                 4.761905       8383.68     8.4   \n",
       "3         Epay    217501.2                 4.761905      10875.06     5.3   \n",
       "4         Epay    148694.4                 4.761905       7434.72     5.8   \n",
       "\n",
       "          DateTime  \n",
       "0   1/5/2019 13:08  \n",
       "1   3/3/2019 13:23  \n",
       "2  1/27/2019 20:33  \n",
       "3   2/8/2019 10:37  \n",
       "4  2/25/2019 14:36  "
      ]
     },
     "execution_count": 58,
     "metadata": {},
     "output_type": "execute_result"
    }
   ],
   "source": [
    "comb_df.head()"
   ]
  },
  {
   "cell_type": "code",
   "execution_count": 59,
   "id": "ea114956",
   "metadata": {},
   "outputs": [],
   "source": [
    "# convert datetime column to an appropriate data type\n",
    "\n",
    "comb_df['DateTime'] = pd.to_datetime(comb_df['DateTime'])"
   ]
  },
  {
   "cell_type": "code",
   "execution_count": 60,
   "id": "05e68ad8",
   "metadata": {},
   "outputs": [
    {
     "data": {
      "text/html": [
       "<div>\n",
       "<style scoped>\n",
       "    .dataframe tbody tr th:only-of-type {\n",
       "        vertical-align: middle;\n",
       "    }\n",
       "\n",
       "    .dataframe tbody tr th {\n",
       "        vertical-align: top;\n",
       "    }\n",
       "\n",
       "    .dataframe thead th {\n",
       "        text-align: right;\n",
       "    }\n",
       "</style>\n",
       "<table border=\"1\" class=\"dataframe\">\n",
       "  <thead>\n",
       "    <tr style=\"text-align: right;\">\n",
       "      <th></th>\n",
       "      <th>Branch</th>\n",
       "      <th>Branch Location</th>\n",
       "      <th>Customer type</th>\n",
       "      <th>Gender</th>\n",
       "      <th>Product line</th>\n",
       "      <th>Unit price</th>\n",
       "      <th>Quantity</th>\n",
       "      <th>Tax 5%</th>\n",
       "      <th>Items Selling Price</th>\n",
       "      <th>Date</th>\n",
       "      <th>Time</th>\n",
       "      <th>Payment Type</th>\n",
       "      <th>Items Cost</th>\n",
       "      <th>gross margin percentage</th>\n",
       "      <th>gross income</th>\n",
       "      <th>Rating</th>\n",
       "      <th>DateTime</th>\n",
       "    </tr>\n",
       "  </thead>\n",
       "  <tbody>\n",
       "    <tr>\n",
       "      <th>0</th>\n",
       "      <td>A</td>\n",
       "      <td>Lagos</td>\n",
       "      <td>Member</td>\n",
       "      <td>Female</td>\n",
       "      <td>Health and beauty</td>\n",
       "      <td>26888.4</td>\n",
       "      <td>7</td>\n",
       "      <td>9410.94</td>\n",
       "      <td>197629.74</td>\n",
       "      <td>1/5/2019</td>\n",
       "      <td>13:08</td>\n",
       "      <td>Epay</td>\n",
       "      <td>188218.8</td>\n",
       "      <td>4.761905</td>\n",
       "      <td>9410.94</td>\n",
       "      <td>9.1</td>\n",
       "      <td>2019-01-05 13:08:00</td>\n",
       "    </tr>\n",
       "    <tr>\n",
       "      <th>1</th>\n",
       "      <td>A</td>\n",
       "      <td>Lagos</td>\n",
       "      <td>Normal</td>\n",
       "      <td>Male</td>\n",
       "      <td>Home and lifestyle</td>\n",
       "      <td>16678.8</td>\n",
       "      <td>7</td>\n",
       "      <td>5837.58</td>\n",
       "      <td>122589.18</td>\n",
       "      <td>3/3/2019</td>\n",
       "      <td>13:23</td>\n",
       "      <td>Card</td>\n",
       "      <td>116751.6</td>\n",
       "      <td>4.761905</td>\n",
       "      <td>5837.58</td>\n",
       "      <td>7.4</td>\n",
       "      <td>2019-03-03 13:23:00</td>\n",
       "    </tr>\n",
       "    <tr>\n",
       "      <th>2</th>\n",
       "      <td>A</td>\n",
       "      <td>Lagos</td>\n",
       "      <td>Member</td>\n",
       "      <td>Male</td>\n",
       "      <td>Health and beauty</td>\n",
       "      <td>20959.2</td>\n",
       "      <td>8</td>\n",
       "      <td>8383.68</td>\n",
       "      <td>176057.28</td>\n",
       "      <td>1/27/2019</td>\n",
       "      <td>20:33</td>\n",
       "      <td>Epay</td>\n",
       "      <td>167673.6</td>\n",
       "      <td>4.761905</td>\n",
       "      <td>8383.68</td>\n",
       "      <td>8.4</td>\n",
       "      <td>2019-01-27 20:33:00</td>\n",
       "    </tr>\n",
       "    <tr>\n",
       "      <th>3</th>\n",
       "      <td>A</td>\n",
       "      <td>Lagos</td>\n",
       "      <td>Normal</td>\n",
       "      <td>Male</td>\n",
       "      <td>Sports and travel</td>\n",
       "      <td>31071.6</td>\n",
       "      <td>7</td>\n",
       "      <td>10875.06</td>\n",
       "      <td>228376.26</td>\n",
       "      <td>2/8/2019</td>\n",
       "      <td>10:37</td>\n",
       "      <td>Epay</td>\n",
       "      <td>217501.2</td>\n",
       "      <td>4.761905</td>\n",
       "      <td>10875.06</td>\n",
       "      <td>5.3</td>\n",
       "      <td>2019-02-08 10:37:00</td>\n",
       "    </tr>\n",
       "    <tr>\n",
       "      <th>4</th>\n",
       "      <td>A</td>\n",
       "      <td>Lagos</td>\n",
       "      <td>Member</td>\n",
       "      <td>Female</td>\n",
       "      <td>Electronic accessories</td>\n",
       "      <td>24782.4</td>\n",
       "      <td>6</td>\n",
       "      <td>7434.72</td>\n",
       "      <td>156129.12</td>\n",
       "      <td>2/25/2019</td>\n",
       "      <td>14:36</td>\n",
       "      <td>Epay</td>\n",
       "      <td>148694.4</td>\n",
       "      <td>4.761905</td>\n",
       "      <td>7434.72</td>\n",
       "      <td>5.8</td>\n",
       "      <td>2019-02-25 14:36:00</td>\n",
       "    </tr>\n",
       "  </tbody>\n",
       "</table>\n",
       "</div>"
      ],
      "text/plain": [
       "  Branch Branch Location Customer type  Gender            Product line  \\\n",
       "0      A           Lagos        Member  Female       Health and beauty   \n",
       "1      A           Lagos        Normal    Male      Home and lifestyle   \n",
       "2      A           Lagos        Member    Male       Health and beauty   \n",
       "3      A           Lagos        Normal    Male       Sports and travel   \n",
       "4      A           Lagos        Member  Female  Electronic accessories   \n",
       "\n",
       "   Unit price  Quantity    Tax 5%  Items Selling Price       Date   Time  \\\n",
       "0     26888.4         7   9410.94            197629.74   1/5/2019  13:08   \n",
       "1     16678.8         7   5837.58            122589.18   3/3/2019  13:23   \n",
       "2     20959.2         8   8383.68            176057.28  1/27/2019  20:33   \n",
       "3     31071.6         7  10875.06            228376.26   2/8/2019  10:37   \n",
       "4     24782.4         6   7434.72            156129.12  2/25/2019  14:36   \n",
       "\n",
       "  Payment Type  Items Cost  gross margin percentage  gross income  Rating  \\\n",
       "0         Epay    188218.8                 4.761905       9410.94     9.1   \n",
       "1         Card    116751.6                 4.761905       5837.58     7.4   \n",
       "2         Epay    167673.6                 4.761905       8383.68     8.4   \n",
       "3         Epay    217501.2                 4.761905      10875.06     5.3   \n",
       "4         Epay    148694.4                 4.761905       7434.72     5.8   \n",
       "\n",
       "             DateTime  \n",
       "0 2019-01-05 13:08:00  \n",
       "1 2019-03-03 13:23:00  \n",
       "2 2019-01-27 20:33:00  \n",
       "3 2019-02-08 10:37:00  \n",
       "4 2019-02-25 14:36:00  "
      ]
     },
     "execution_count": 60,
     "metadata": {},
     "output_type": "execute_result"
    }
   ],
   "source": [
    "comb_df.head()"
   ]
  },
  {
   "cell_type": "code",
   "execution_count": 61,
   "id": "552464d8",
   "metadata": {},
   "outputs": [
    {
     "name": "stdout",
     "output_type": "stream",
     "text": [
      "<class 'pandas.core.frame.DataFrame'>\n",
      "RangeIndex: 1000 entries, 0 to 999\n",
      "Data columns (total 17 columns):\n",
      " #   Column                   Non-Null Count  Dtype         \n",
      "---  ------                   --------------  -----         \n",
      " 0   Branch                   1000 non-null   object        \n",
      " 1   Branch Location          1000 non-null   object        \n",
      " 2   Customer type            1000 non-null   object        \n",
      " 3   Gender                   1000 non-null   object        \n",
      " 4   Product line             1000 non-null   object        \n",
      " 5   Unit price               1000 non-null   float64       \n",
      " 6   Quantity                 1000 non-null   int64         \n",
      " 7   Tax 5%                   1000 non-null   float64       \n",
      " 8   Items Selling Price      1000 non-null   float64       \n",
      " 9   Date                     1000 non-null   object        \n",
      " 10  Time                     1000 non-null   object        \n",
      " 11  Payment Type             1000 non-null   object        \n",
      " 12  Items Cost               1000 non-null   float64       \n",
      " 13  gross margin percentage  1000 non-null   float64       \n",
      " 14  gross income             1000 non-null   float64       \n",
      " 15  Rating                   1000 non-null   float64       \n",
      " 16  DateTime                 1000 non-null   datetime64[ns]\n",
      "dtypes: datetime64[ns](1), float64(7), int64(1), object(8)\n",
      "memory usage: 132.9+ KB\n"
     ]
    }
   ],
   "source": [
    "comb_df.info()"
   ]
  },
  {
   "cell_type": "code",
   "execution_count": 62,
   "id": "89af769d",
   "metadata": {},
   "outputs": [],
   "source": [
    "# drop the date and time columns\n",
    "\n",
    "comb_df.drop(['Date', 'Time'], axis=1, inplace=True)"
   ]
  },
  {
   "cell_type": "code",
   "execution_count": 63,
   "id": "214c0e52",
   "metadata": {},
   "outputs": [
    {
     "name": "stdout",
     "output_type": "stream",
     "text": [
      "<class 'pandas.core.frame.DataFrame'>\n",
      "RangeIndex: 1000 entries, 0 to 999\n",
      "Data columns (total 15 columns):\n",
      " #   Column                   Non-Null Count  Dtype         \n",
      "---  ------                   --------------  -----         \n",
      " 0   Branch                   1000 non-null   object        \n",
      " 1   Branch Location          1000 non-null   object        \n",
      " 2   Customer type            1000 non-null   object        \n",
      " 3   Gender                   1000 non-null   object        \n",
      " 4   Product line             1000 non-null   object        \n",
      " 5   Unit price               1000 non-null   float64       \n",
      " 6   Quantity                 1000 non-null   int64         \n",
      " 7   Tax 5%                   1000 non-null   float64       \n",
      " 8   Items Selling Price      1000 non-null   float64       \n",
      " 9   Payment Type             1000 non-null   object        \n",
      " 10  Items Cost               1000 non-null   float64       \n",
      " 11  gross margin percentage  1000 non-null   float64       \n",
      " 12  gross income             1000 non-null   float64       \n",
      " 13  Rating                   1000 non-null   float64       \n",
      " 14  DateTime                 1000 non-null   datetime64[ns]\n",
      "dtypes: datetime64[ns](1), float64(7), int64(1), object(6)\n",
      "memory usage: 117.3+ KB\n"
     ]
    }
   ],
   "source": [
    "comb_df.info()"
   ]
  },
  {
   "cell_type": "code",
   "execution_count": 64,
   "id": "de022ce5",
   "metadata": {},
   "outputs": [],
   "source": [
    "# export cleaned data \n",
    "\n",
    "comb_df.to_csv('Supermarket_cleaned_data.csv')"
   ]
  },
  {
   "cell_type": "markdown",
   "id": "00d8cd97",
   "metadata": {},
   "source": [
    "#### Data Preparation"
   ]
  },
  {
   "cell_type": "code",
   "execution_count": 71,
   "id": "b03bc8a4",
   "metadata": {},
   "outputs": [],
   "source": [
    "# extract useful columns from the datetime columns\n",
    "\n",
    "comb_df['Month'] = comb_df['DateTime'].dt.month_name()\n",
    "comb_df['Day of Week'] = comb_df['DateTime'].dt.day_name()\n",
    "comb_df['Day'] = comb_df['DateTime'].dt.day\n"
   ]
  },
  {
   "cell_type": "code",
   "execution_count": 72,
   "id": "8487c582",
   "metadata": {},
   "outputs": [
    {
     "data": {
      "text/html": [
       "<div>\n",
       "<style scoped>\n",
       "    .dataframe tbody tr th:only-of-type {\n",
       "        vertical-align: middle;\n",
       "    }\n",
       "\n",
       "    .dataframe tbody tr th {\n",
       "        vertical-align: top;\n",
       "    }\n",
       "\n",
       "    .dataframe thead th {\n",
       "        text-align: right;\n",
       "    }\n",
       "</style>\n",
       "<table border=\"1\" class=\"dataframe\">\n",
       "  <thead>\n",
       "    <tr style=\"text-align: right;\">\n",
       "      <th></th>\n",
       "      <th>Branch</th>\n",
       "      <th>Branch Location</th>\n",
       "      <th>Customer type</th>\n",
       "      <th>Gender</th>\n",
       "      <th>Product line</th>\n",
       "      <th>Unit price</th>\n",
       "      <th>Quantity</th>\n",
       "      <th>Tax 5%</th>\n",
       "      <th>Items Selling Price</th>\n",
       "      <th>Payment Type</th>\n",
       "      <th>Items Cost</th>\n",
       "      <th>gross margin percentage</th>\n",
       "      <th>gross income</th>\n",
       "      <th>Rating</th>\n",
       "      <th>DateTime</th>\n",
       "      <th>Day of Week</th>\n",
       "      <th>Month</th>\n",
       "      <th>Day</th>\n",
       "    </tr>\n",
       "  </thead>\n",
       "  <tbody>\n",
       "    <tr>\n",
       "      <th>0</th>\n",
       "      <td>A</td>\n",
       "      <td>Lagos</td>\n",
       "      <td>Member</td>\n",
       "      <td>Female</td>\n",
       "      <td>Health and beauty</td>\n",
       "      <td>26888.4</td>\n",
       "      <td>7</td>\n",
       "      <td>9410.94</td>\n",
       "      <td>197629.74</td>\n",
       "      <td>Epay</td>\n",
       "      <td>188218.8</td>\n",
       "      <td>4.761905</td>\n",
       "      <td>9410.94</td>\n",
       "      <td>9.1</td>\n",
       "      <td>2019-01-05 13:08:00</td>\n",
       "      <td>Saturday</td>\n",
       "      <td>January</td>\n",
       "      <td>5</td>\n",
       "    </tr>\n",
       "    <tr>\n",
       "      <th>1</th>\n",
       "      <td>A</td>\n",
       "      <td>Lagos</td>\n",
       "      <td>Normal</td>\n",
       "      <td>Male</td>\n",
       "      <td>Home and lifestyle</td>\n",
       "      <td>16678.8</td>\n",
       "      <td>7</td>\n",
       "      <td>5837.58</td>\n",
       "      <td>122589.18</td>\n",
       "      <td>Card</td>\n",
       "      <td>116751.6</td>\n",
       "      <td>4.761905</td>\n",
       "      <td>5837.58</td>\n",
       "      <td>7.4</td>\n",
       "      <td>2019-03-03 13:23:00</td>\n",
       "      <td>Sunday</td>\n",
       "      <td>March</td>\n",
       "      <td>3</td>\n",
       "    </tr>\n",
       "    <tr>\n",
       "      <th>2</th>\n",
       "      <td>A</td>\n",
       "      <td>Lagos</td>\n",
       "      <td>Member</td>\n",
       "      <td>Male</td>\n",
       "      <td>Health and beauty</td>\n",
       "      <td>20959.2</td>\n",
       "      <td>8</td>\n",
       "      <td>8383.68</td>\n",
       "      <td>176057.28</td>\n",
       "      <td>Epay</td>\n",
       "      <td>167673.6</td>\n",
       "      <td>4.761905</td>\n",
       "      <td>8383.68</td>\n",
       "      <td>8.4</td>\n",
       "      <td>2019-01-27 20:33:00</td>\n",
       "      <td>Sunday</td>\n",
       "      <td>January</td>\n",
       "      <td>27</td>\n",
       "    </tr>\n",
       "    <tr>\n",
       "      <th>3</th>\n",
       "      <td>A</td>\n",
       "      <td>Lagos</td>\n",
       "      <td>Normal</td>\n",
       "      <td>Male</td>\n",
       "      <td>Sports and travel</td>\n",
       "      <td>31071.6</td>\n",
       "      <td>7</td>\n",
       "      <td>10875.06</td>\n",
       "      <td>228376.26</td>\n",
       "      <td>Epay</td>\n",
       "      <td>217501.2</td>\n",
       "      <td>4.761905</td>\n",
       "      <td>10875.06</td>\n",
       "      <td>5.3</td>\n",
       "      <td>2019-02-08 10:37:00</td>\n",
       "      <td>Friday</td>\n",
       "      <td>February</td>\n",
       "      <td>8</td>\n",
       "    </tr>\n",
       "    <tr>\n",
       "      <th>4</th>\n",
       "      <td>A</td>\n",
       "      <td>Lagos</td>\n",
       "      <td>Member</td>\n",
       "      <td>Female</td>\n",
       "      <td>Electronic accessories</td>\n",
       "      <td>24782.4</td>\n",
       "      <td>6</td>\n",
       "      <td>7434.72</td>\n",
       "      <td>156129.12</td>\n",
       "      <td>Epay</td>\n",
       "      <td>148694.4</td>\n",
       "      <td>4.761905</td>\n",
       "      <td>7434.72</td>\n",
       "      <td>5.8</td>\n",
       "      <td>2019-02-25 14:36:00</td>\n",
       "      <td>Monday</td>\n",
       "      <td>February</td>\n",
       "      <td>25</td>\n",
       "    </tr>\n",
       "  </tbody>\n",
       "</table>\n",
       "</div>"
      ],
      "text/plain": [
       "  Branch Branch Location Customer type  Gender            Product line  \\\n",
       "0      A           Lagos        Member  Female       Health and beauty   \n",
       "1      A           Lagos        Normal    Male      Home and lifestyle   \n",
       "2      A           Lagos        Member    Male       Health and beauty   \n",
       "3      A           Lagos        Normal    Male       Sports and travel   \n",
       "4      A           Lagos        Member  Female  Electronic accessories   \n",
       "\n",
       "   Unit price  Quantity    Tax 5%  Items Selling Price Payment Type  \\\n",
       "0     26888.4         7   9410.94            197629.74         Epay   \n",
       "1     16678.8         7   5837.58            122589.18         Card   \n",
       "2     20959.2         8   8383.68            176057.28         Epay   \n",
       "3     31071.6         7  10875.06            228376.26         Epay   \n",
       "4     24782.4         6   7434.72            156129.12         Epay   \n",
       "\n",
       "   Items Cost  gross margin percentage  gross income  Rating  \\\n",
       "0    188218.8                 4.761905       9410.94     9.1   \n",
       "1    116751.6                 4.761905       5837.58     7.4   \n",
       "2    167673.6                 4.761905       8383.68     8.4   \n",
       "3    217501.2                 4.761905      10875.06     5.3   \n",
       "4    148694.4                 4.761905       7434.72     5.8   \n",
       "\n",
       "             DateTime Day of Week     Month  Day  \n",
       "0 2019-01-05 13:08:00    Saturday   January    5  \n",
       "1 2019-03-03 13:23:00      Sunday     March    3  \n",
       "2 2019-01-27 20:33:00      Sunday   January   27  \n",
       "3 2019-02-08 10:37:00      Friday  February    8  \n",
       "4 2019-02-25 14:36:00      Monday  February   25  "
      ]
     },
     "execution_count": 72,
     "metadata": {},
     "output_type": "execute_result"
    }
   ],
   "source": [
    "comb_df.head()"
   ]
  },
  {
   "cell_type": "code",
   "execution_count": 73,
   "id": "1edee30e",
   "metadata": {},
   "outputs": [
    {
     "name": "stdout",
     "output_type": "stream",
     "text": [
      "<class 'pandas.core.frame.DataFrame'>\n",
      "RangeIndex: 1000 entries, 0 to 999\n",
      "Data columns (total 18 columns):\n",
      " #   Column                   Non-Null Count  Dtype         \n",
      "---  ------                   --------------  -----         \n",
      " 0   Branch                   1000 non-null   object        \n",
      " 1   Branch Location          1000 non-null   object        \n",
      " 2   Customer type            1000 non-null   object        \n",
      " 3   Gender                   1000 non-null   object        \n",
      " 4   Product line             1000 non-null   object        \n",
      " 5   Unit price               1000 non-null   float64       \n",
      " 6   Quantity                 1000 non-null   int64         \n",
      " 7   Tax 5%                   1000 non-null   float64       \n",
      " 8   Items Selling Price      1000 non-null   float64       \n",
      " 9   Payment Type             1000 non-null   object        \n",
      " 10  Items Cost               1000 non-null   float64       \n",
      " 11  gross margin percentage  1000 non-null   float64       \n",
      " 12  gross income             1000 non-null   float64       \n",
      " 13  Rating                   1000 non-null   float64       \n",
      " 14  DateTime                 1000 non-null   datetime64[ns]\n",
      " 15  Day of Week              1000 non-null   object        \n",
      " 16  Month                    1000 non-null   object        \n",
      " 17  Day                      1000 non-null   int32         \n",
      "dtypes: datetime64[ns](1), float64(7), int32(1), int64(1), object(8)\n",
      "memory usage: 136.8+ KB\n"
     ]
    }
   ],
   "source": [
    "comb_df.info()"
   ]
  },
  {
   "cell_type": "code",
   "execution_count": 74,
   "id": "a654760e",
   "metadata": {},
   "outputs": [],
   "source": [
    "# create a rating category\n",
    "\n",
    "def categorize_rating(value):\n",
    "    if value <= 5:\n",
    "        return 'Low'\n",
    "    elif value > 5 and value <= 8:\n",
    "        return 'Medium'\n",
    "    else:\n",
    "        return 'High'\n",
    "    \n",
    "comb_df['Rating Category'] = comb_df['Rating'].apply(categorize_rating)"
   ]
  },
  {
   "cell_type": "code",
   "execution_count": 75,
   "id": "f2beb2a5",
   "metadata": {},
   "outputs": [
    {
     "data": {
      "text/html": [
       "<div>\n",
       "<style scoped>\n",
       "    .dataframe tbody tr th:only-of-type {\n",
       "        vertical-align: middle;\n",
       "    }\n",
       "\n",
       "    .dataframe tbody tr th {\n",
       "        vertical-align: top;\n",
       "    }\n",
       "\n",
       "    .dataframe thead th {\n",
       "        text-align: right;\n",
       "    }\n",
       "</style>\n",
       "<table border=\"1\" class=\"dataframe\">\n",
       "  <thead>\n",
       "    <tr style=\"text-align: right;\">\n",
       "      <th></th>\n",
       "      <th>Branch</th>\n",
       "      <th>Branch Location</th>\n",
       "      <th>Customer type</th>\n",
       "      <th>Gender</th>\n",
       "      <th>Product line</th>\n",
       "      <th>Unit price</th>\n",
       "      <th>Quantity</th>\n",
       "      <th>Tax 5%</th>\n",
       "      <th>Items Selling Price</th>\n",
       "      <th>Payment Type</th>\n",
       "      <th>Items Cost</th>\n",
       "      <th>gross margin percentage</th>\n",
       "      <th>gross income</th>\n",
       "      <th>Rating</th>\n",
       "      <th>DateTime</th>\n",
       "      <th>Day of Week</th>\n",
       "      <th>Month</th>\n",
       "      <th>Day</th>\n",
       "      <th>Rating Category</th>\n",
       "    </tr>\n",
       "  </thead>\n",
       "  <tbody>\n",
       "    <tr>\n",
       "      <th>0</th>\n",
       "      <td>A</td>\n",
       "      <td>Lagos</td>\n",
       "      <td>Member</td>\n",
       "      <td>Female</td>\n",
       "      <td>Health and beauty</td>\n",
       "      <td>26888.4</td>\n",
       "      <td>7</td>\n",
       "      <td>9410.94</td>\n",
       "      <td>197629.74</td>\n",
       "      <td>Epay</td>\n",
       "      <td>188218.8</td>\n",
       "      <td>4.761905</td>\n",
       "      <td>9410.94</td>\n",
       "      <td>9.1</td>\n",
       "      <td>2019-01-05 13:08:00</td>\n",
       "      <td>Saturday</td>\n",
       "      <td>January</td>\n",
       "      <td>5</td>\n",
       "      <td>High</td>\n",
       "    </tr>\n",
       "    <tr>\n",
       "      <th>1</th>\n",
       "      <td>A</td>\n",
       "      <td>Lagos</td>\n",
       "      <td>Normal</td>\n",
       "      <td>Male</td>\n",
       "      <td>Home and lifestyle</td>\n",
       "      <td>16678.8</td>\n",
       "      <td>7</td>\n",
       "      <td>5837.58</td>\n",
       "      <td>122589.18</td>\n",
       "      <td>Card</td>\n",
       "      <td>116751.6</td>\n",
       "      <td>4.761905</td>\n",
       "      <td>5837.58</td>\n",
       "      <td>7.4</td>\n",
       "      <td>2019-03-03 13:23:00</td>\n",
       "      <td>Sunday</td>\n",
       "      <td>March</td>\n",
       "      <td>3</td>\n",
       "      <td>Medium</td>\n",
       "    </tr>\n",
       "    <tr>\n",
       "      <th>2</th>\n",
       "      <td>A</td>\n",
       "      <td>Lagos</td>\n",
       "      <td>Member</td>\n",
       "      <td>Male</td>\n",
       "      <td>Health and beauty</td>\n",
       "      <td>20959.2</td>\n",
       "      <td>8</td>\n",
       "      <td>8383.68</td>\n",
       "      <td>176057.28</td>\n",
       "      <td>Epay</td>\n",
       "      <td>167673.6</td>\n",
       "      <td>4.761905</td>\n",
       "      <td>8383.68</td>\n",
       "      <td>8.4</td>\n",
       "      <td>2019-01-27 20:33:00</td>\n",
       "      <td>Sunday</td>\n",
       "      <td>January</td>\n",
       "      <td>27</td>\n",
       "      <td>High</td>\n",
       "    </tr>\n",
       "  </tbody>\n",
       "</table>\n",
       "</div>"
      ],
      "text/plain": [
       "  Branch Branch Location Customer type  Gender        Product line  \\\n",
       "0      A           Lagos        Member  Female   Health and beauty   \n",
       "1      A           Lagos        Normal    Male  Home and lifestyle   \n",
       "2      A           Lagos        Member    Male   Health and beauty   \n",
       "\n",
       "   Unit price  Quantity   Tax 5%  Items Selling Price Payment Type  \\\n",
       "0     26888.4         7  9410.94            197629.74         Epay   \n",
       "1     16678.8         7  5837.58            122589.18         Card   \n",
       "2     20959.2         8  8383.68            176057.28         Epay   \n",
       "\n",
       "   Items Cost  gross margin percentage  gross income  Rating  \\\n",
       "0    188218.8                 4.761905       9410.94     9.1   \n",
       "1    116751.6                 4.761905       5837.58     7.4   \n",
       "2    167673.6                 4.761905       8383.68     8.4   \n",
       "\n",
       "             DateTime Day of Week    Month  Day Rating Category  \n",
       "0 2019-01-05 13:08:00    Saturday  January    5            High  \n",
       "1 2019-03-03 13:23:00      Sunday    March    3          Medium  \n",
       "2 2019-01-27 20:33:00      Sunday  January   27            High  "
      ]
     },
     "execution_count": 75,
     "metadata": {},
     "output_type": "execute_result"
    }
   ],
   "source": [
    "comb_df.head(3)"
   ]
  },
  {
   "cell_type": "markdown",
   "id": "f99f298e",
   "metadata": {},
   "source": [
    "#### Data Analysis/Exploration"
   ]
  },
  {
   "cell_type": "code",
   "execution_count": null,
   "id": "1482af23",
   "metadata": {},
   "outputs": [
    {
     "data": {
      "text/plain": [
       "<Figure size 2000x1000 with 0 Axes>"
      ]
     },
     "metadata": {},
     "output_type": "display_data"
    }
   ],
   "source": [
    "# helper functions \n",
    "\n",
    "# generate barplot\n",
    "plt.figure(figsize=(20,10)).patch.set_facecolor('none')\n",
    "\n",
    "def generate_bar_plot(x,y,xlabel, ylabel):\n",
    "    plt.bar(x, y, color='grey', edgecolor='black')\n",
    "    plt.title(f'Plot of {ylabel} vs {xlabel}')\n",
    "    plt.xlabel(xlabel)\n",
    "    plt.ylabel(ylabel)\n",
    "    plt.show()\n",
    "    \n",
    "def generate_line_chart(x, y, xlabel,ylabel,data,color='grey',estimator=sum):\n",
    "    sb.lineplot(x=x,y=y,markers=True, dashes=False, data=data,estimator=estimator, color=color)\n",
    "    plt.xlabel(xlabel)\n",
    "    plt.ylabel(ylabel)\n",
    "    plt.title(f'Plot of {ylabel} with changes in {xlabel}')\n",
    "    plt.show()"
   ]
  },
  {
   "cell_type": "markdown",
   "id": "f4e87458",
   "metadata": {},
   "source": [
    "`1. City with the highest total gross income`"
   ]
  },
  {
   "cell_type": "code",
   "execution_count": 76,
   "id": "a1a32c27",
   "metadata": {},
   "outputs": [],
   "source": [
    "df_gross_income = comb_df.groupby('Branch Location')[['gross income']].sum()"
   ]
  },
  {
   "cell_type": "code",
   "execution_count": null,
   "id": "139ba63b",
   "metadata": {},
   "outputs": [],
   "source": [
    "# using agg\n",
    "df_gross_income = comb_df.groupby('Branch Location').agg({'gross income': 'sum'})"
   ]
  },
  {
   "cell_type": "code",
   "execution_count": 77,
   "id": "025d48b7",
   "metadata": {},
   "outputs": [
    {
     "data": {
      "text/html": [
       "<div>\n",
       "<style scoped>\n",
       "    .dataframe tbody tr th:only-of-type {\n",
       "        vertical-align: middle;\n",
       "    }\n",
       "\n",
       "    .dataframe tbody tr th {\n",
       "        vertical-align: top;\n",
       "    }\n",
       "\n",
       "    .dataframe thead th {\n",
       "        text-align: right;\n",
       "    }\n",
       "</style>\n",
       "<table border=\"1\" class=\"dataframe\">\n",
       "  <thead>\n",
       "    <tr style=\"text-align: right;\">\n",
       "      <th></th>\n",
       "      <th>gross income</th>\n",
       "    </tr>\n",
       "    <tr>\n",
       "      <th>Branch Location</th>\n",
       "      <th></th>\n",
       "    </tr>\n",
       "  </thead>\n",
       "  <tbody>\n",
       "    <tr>\n",
       "      <th>Abuja</th>\n",
       "      <td>1820531.52</td>\n",
       "    </tr>\n",
       "    <tr>\n",
       "      <th>Lagos</th>\n",
       "      <td>1820577.78</td>\n",
       "    </tr>\n",
       "    <tr>\n",
       "      <th>Port Harcourt</th>\n",
       "      <td>1895463.54</td>\n",
       "    </tr>\n",
       "  </tbody>\n",
       "</table>\n",
       "</div>"
      ],
      "text/plain": [
       "                 gross income\n",
       "Branch Location              \n",
       "Abuja              1820531.52\n",
       "Lagos              1820577.78\n",
       "Port Harcourt      1895463.54"
      ]
     },
     "execution_count": 77,
     "metadata": {},
     "output_type": "execute_result"
    }
   ],
   "source": [
    "df_gross_income"
   ]
  },
  {
   "cell_type": "code",
   "execution_count": 85,
   "id": "62cc970d",
   "metadata": {},
   "outputs": [],
   "source": [
    "df_gross_income['gross income percent'] = (df_gross_income['gross income'] /sum(df_gross_income['gross income'])) * 100"
   ]
  },
  {
   "cell_type": "code",
   "execution_count": 86,
   "id": "0a0b8a5f",
   "metadata": {},
   "outputs": [
    {
     "data": {
      "text/html": [
       "<div>\n",
       "<style scoped>\n",
       "    .dataframe tbody tr th:only-of-type {\n",
       "        vertical-align: middle;\n",
       "    }\n",
       "\n",
       "    .dataframe tbody tr th {\n",
       "        vertical-align: top;\n",
       "    }\n",
       "\n",
       "    .dataframe thead th {\n",
       "        text-align: right;\n",
       "    }\n",
       "</style>\n",
       "<table border=\"1\" class=\"dataframe\">\n",
       "  <thead>\n",
       "    <tr style=\"text-align: right;\">\n",
       "      <th></th>\n",
       "      <th>gross income</th>\n",
       "      <th>gross income percent</th>\n",
       "    </tr>\n",
       "    <tr>\n",
       "      <th>Branch Location</th>\n",
       "      <th></th>\n",
       "      <th></th>\n",
       "    </tr>\n",
       "  </thead>\n",
       "  <tbody>\n",
       "    <tr>\n",
       "      <th>Abuja</th>\n",
       "      <td>1820531.52</td>\n",
       "      <td>32.881921</td>\n",
       "    </tr>\n",
       "    <tr>\n",
       "      <th>Lagos</th>\n",
       "      <td>1820577.78</td>\n",
       "      <td>32.882757</td>\n",
       "    </tr>\n",
       "    <tr>\n",
       "      <th>Port Harcourt</th>\n",
       "      <td>1895463.54</td>\n",
       "      <td>34.235322</td>\n",
       "    </tr>\n",
       "  </tbody>\n",
       "</table>\n",
       "</div>"
      ],
      "text/plain": [
       "                 gross income  gross income percent\n",
       "Branch Location                                    \n",
       "Abuja              1820531.52             32.881921\n",
       "Lagos              1820577.78             32.882757\n",
       "Port Harcourt      1895463.54             34.235322"
      ]
     },
     "execution_count": 86,
     "metadata": {},
     "output_type": "execute_result"
    }
   ],
   "source": [
    "df_gross_income"
   ]
  },
  {
   "cell_type": "code",
   "execution_count": 78,
   "id": "e15beb49",
   "metadata": {},
   "outputs": [],
   "source": [
    "df_result = df_gross_income[['gross income']].sort_values(by='gross income', ascending=False)"
   ]
  },
  {
   "cell_type": "code",
   "execution_count": null,
   "id": "9bc86ded",
   "metadata": {},
   "outputs": [
    {
     "data": {
      "image/png": "[encoded data removed]",
      "text/plain": [
       "<Figure size 640x480 with 1 Axes>"
      ]
     },
     "metadata": {},
     "output_type": "display_data"
    }
   ],
   "source": [
    "generate_bar_plot(df_result.index, df_result['gross income'], \"Branch Location\", \"Total Gross Income\")\n",
    "sb.despine()"
   ]
  },
  {
   "cell_type": "markdown",
   "id": "8c58d894",
   "metadata": {},
   "source": [
    "Result : Portharcourt branch is generating more income than Lagos then Abuja. There isn't much difference in the revenue generation"
   ]
  },
  {
   "cell_type": "markdown",
   "id": "60f60f3a",
   "metadata": {},
   "source": [
    "The reason why we can use what we found during data understanding the data was relatively clean\n",
    "\n",
    "`2. Branch with highest sales record`\n",
    "\n",
    "Result  : This has been discovered during data understanding - Lagos has the highest sales record then Abuja then P.H"
   ]
  },
  {
   "cell_type": "markdown",
   "id": "5382e782",
   "metadata": {},
   "source": [
    "`3. Most uses Payment method`\n",
    "\n",
    "Result : This has been discovered during data understanding - Epay, Cash then Card"
   ]
  },
  {
   "cell_type": "markdown",
   "id": "6953bc72",
   "metadata": {},
   "source": [
    "`4. How do the product line compare in terms of no of items bought`"
   ]
  },
  {
   "cell_type": "code",
   "execution_count": 87,
   "id": "da252f0a",
   "metadata": {},
   "outputs": [],
   "source": [
    "df_items_bought = comb_df.groupby('Product line')[['Quantity']].sum()"
   ]
  },
  {
   "cell_type": "code",
   "execution_count": 89,
   "id": "8ce042e4",
   "metadata": {},
   "outputs": [
    {
     "data": {
      "text/html": [
       "<div>\n",
       "<style scoped>\n",
       "    .dataframe tbody tr th:only-of-type {\n",
       "        vertical-align: middle;\n",
       "    }\n",
       "\n",
       "    .dataframe tbody tr th {\n",
       "        vertical-align: top;\n",
       "    }\n",
       "\n",
       "    .dataframe thead th {\n",
       "        text-align: right;\n",
       "    }\n",
       "</style>\n",
       "<table border=\"1\" class=\"dataframe\">\n",
       "  <thead>\n",
       "    <tr style=\"text-align: right;\">\n",
       "      <th></th>\n",
       "      <th>Quantity</th>\n",
       "    </tr>\n",
       "    <tr>\n",
       "      <th>Product line</th>\n",
       "      <th></th>\n",
       "    </tr>\n",
       "  </thead>\n",
       "  <tbody>\n",
       "    <tr>\n",
       "      <th>Electronic accessories</th>\n",
       "      <td>971</td>\n",
       "    </tr>\n",
       "    <tr>\n",
       "      <th>Fashion accessories</th>\n",
       "      <td>902</td>\n",
       "    </tr>\n",
       "    <tr>\n",
       "      <th>Food and beverages</th>\n",
       "      <td>952</td>\n",
       "    </tr>\n",
       "    <tr>\n",
       "      <th>Health and beauty</th>\n",
       "      <td>854</td>\n",
       "    </tr>\n",
       "    <tr>\n",
       "      <th>Home and lifestyle</th>\n",
       "      <td>911</td>\n",
       "    </tr>\n",
       "    <tr>\n",
       "      <th>Sports and travel</th>\n",
       "      <td>920</td>\n",
       "    </tr>\n",
       "  </tbody>\n",
       "</table>\n",
       "</div>"
      ],
      "text/plain": [
       "                        Quantity\n",
       "Product line                    \n",
       "Electronic accessories       971\n",
       "Fashion accessories          902\n",
       "Food and beverages           952\n",
       "Health and beauty            854\n",
       "Home and lifestyle           911\n",
       "Sports and travel            920"
      ]
     },
     "execution_count": 89,
     "metadata": {},
     "output_type": "execute_result"
    }
   ],
   "source": [
    "df_items_bought"
   ]
  },
  {
   "cell_type": "code",
   "execution_count": 91,
   "id": "2175149c",
   "metadata": {},
   "outputs": [],
   "source": [
    "df_items_bought['Quantity Percent'] = (df_items_bought['Quantity'] /sum(df_items_bought['Quantity'])) * 100"
   ]
  },
  {
   "cell_type": "code",
   "execution_count": 92,
   "id": "4c913fc0",
   "metadata": {},
   "outputs": [
    {
     "data": {
      "text/html": [
       "<div>\n",
       "<style scoped>\n",
       "    .dataframe tbody tr th:only-of-type {\n",
       "        vertical-align: middle;\n",
       "    }\n",
       "\n",
       "    .dataframe tbody tr th {\n",
       "        vertical-align: top;\n",
       "    }\n",
       "\n",
       "    .dataframe thead th {\n",
       "        text-align: right;\n",
       "    }\n",
       "</style>\n",
       "<table border=\"1\" class=\"dataframe\">\n",
       "  <thead>\n",
       "    <tr style=\"text-align: right;\">\n",
       "      <th></th>\n",
       "      <th>Quantity</th>\n",
       "      <th>Quantity Percent</th>\n",
       "    </tr>\n",
       "    <tr>\n",
       "      <th>Product line</th>\n",
       "      <th></th>\n",
       "      <th></th>\n",
       "    </tr>\n",
       "  </thead>\n",
       "  <tbody>\n",
       "    <tr>\n",
       "      <th>Electronic accessories</th>\n",
       "      <td>971</td>\n",
       "      <td>17.622505</td>\n",
       "    </tr>\n",
       "    <tr>\n",
       "      <th>Fashion accessories</th>\n",
       "      <td>902</td>\n",
       "      <td>16.370236</td>\n",
       "    </tr>\n",
       "    <tr>\n",
       "      <th>Food and beverages</th>\n",
       "      <td>952</td>\n",
       "      <td>17.277677</td>\n",
       "    </tr>\n",
       "    <tr>\n",
       "      <th>Health and beauty</th>\n",
       "      <td>854</td>\n",
       "      <td>15.499093</td>\n",
       "    </tr>\n",
       "    <tr>\n",
       "      <th>Home and lifestyle</th>\n",
       "      <td>911</td>\n",
       "      <td>16.533575</td>\n",
       "    </tr>\n",
       "    <tr>\n",
       "      <th>Sports and travel</th>\n",
       "      <td>920</td>\n",
       "      <td>16.696915</td>\n",
       "    </tr>\n",
       "  </tbody>\n",
       "</table>\n",
       "</div>"
      ],
      "text/plain": [
       "                        Quantity  Quantity Percent\n",
       "Product line                                      \n",
       "Electronic accessories       971         17.622505\n",
       "Fashion accessories          902         16.370236\n",
       "Food and beverages           952         17.277677\n",
       "Health and beauty            854         15.499093\n",
       "Home and lifestyle           911         16.533575\n",
       "Sports and travel            920         16.696915"
      ]
     },
     "execution_count": 92,
     "metadata": {},
     "output_type": "execute_result"
    }
   ],
   "source": [
    "df_items_bought"
   ]
  },
  {
   "cell_type": "code",
   "execution_count": 94,
   "id": "70a3d2dc",
   "metadata": {},
   "outputs": [],
   "source": [
    "df_result2 = df_items_bought[['Quantity']].sort_values(by='Quantity', ascending=False)"
   ]
  },
  {
   "cell_type": "code",
   "execution_count": 97,
   "id": "6a35b6f2",
   "metadata": {},
   "outputs": [
    {
     "data": {
      "image/png": "[encoded data removed]",
      "text/plain": [
       "<Figure size 2500x1000 with 1 Axes>"
      ]
     },
     "metadata": {},
     "output_type": "display_data"
    }
   ],
   "source": [
    "plt.figure(figsize=(25,10))\n",
    "\n",
    "generate_bar_plot(df_result2.index, df_result2['Quantity'], \"Product Categories\", \"Total Quantity of Items Purchased\" )"
   ]
  },
  {
   "cell_type": "markdown",
   "id": "9105d29f",
   "metadata": {},
   "source": [
    "Result : In terms of quantity of items bought, electronic accessories and Food beverages come tops where health and beauty items are least purchased"
   ]
  },
  {
   "cell_type": "markdown",
   "id": "e7797181",
   "metadata": {},
   "source": [
    "`5. Understand the trend of sales across days of the week and month`"
   ]
  },
  {
   "cell_type": "code",
   "execution_count": null,
   "id": "8d0a8e67",
   "metadata": {},
   "outputs": [],
   "source": [
    "# using time series to analyze sales over time\n",
    "\n",
    "df_sales_over_time = comb_df.set_index('DateTime').resample('M').agg({'Items Selling Price': 'sum'})"
   ]
  },
  {
   "cell_type": "code",
   "execution_count": 115,
   "id": "dcf74e03",
   "metadata": {},
   "outputs": [
    {
     "data": {
      "image/png": "[encoded data removed]",
      "text/plain": [
       "<Figure size 640x480 with 1 Axes>"
      ]
     },
     "metadata": {},
     "output_type": "display_data"
    }
   ],
   "source": [
    "month_mapping = {'January': 1, 'February': 2, 'March': 3}\n",
    "\n",
    "comb_df['Month_Num'] = comb_df['Month'].map(month_mapping)\n",
    "\n",
    "generate_line_chart(x='Month', y ='Items Selling Price', xlabel='Month',ylabel='Sales', data=comb_df.sort_values(by='Month_Num'))"
   ]
  },
  {
   "cell_type": "markdown",
   "id": "12c2c3ec",
   "metadata": {},
   "source": [
    "Result : The highes sales was recorded in January, there was a decline in February and pick up in March"
   ]
  },
  {
   "cell_type": "code",
   "execution_count": 124,
   "id": "071aaa3d",
   "metadata": {},
   "outputs": [
    {
     "data": {
      "text/plain": [
       "<seaborn.axisgrid.FacetGrid at 0x24cf0367fd0>"
      ]
     },
     "execution_count": 124,
     "metadata": {},
     "output_type": "execute_result"
    },
    {
     "data": {
      "image/png": "[encoded data removed]",
      "text/plain": [
       "<Figure size 1130.38x500 with 1 Axes>"
      ]
     },
     "metadata": {},
     "output_type": "display_data"
    }
   ],
   "source": [
    "dayOfWeek_mapping = {'Sunday': 1, 'Monday': 2, 'Tuesday': 3, 'Wednesday': 4, 'Thursday': 5, 'Friday': 6, 'Saturday' : 7}\n",
    "\n",
    "comb_df['Day_of_week_nos'] = comb_df['Day of Week'].map(dayOfWeek_mapping)\n",
    "\n",
    "sb.catplot(x='Month', y='Items Selling Price', hue='Day of Week', kind='bar', data=comb_df.sort_values(by='Day_of_week_nos'), height=5, aspect=2)"
   ]
  },
  {
   "cell_type": "markdown",
   "id": "739a933b",
   "metadata": {},
   "source": [
    "Result :\n",
    "\n",
    " - In the month of January,  Wednesdays, Thursdays and Tuesday are when we generate most sales\n",
    " \n",
    " - For February, it is  Friday, Sunday and Tuesday. It is obvious that compared to January, the sales were not steady in February.\n",
    " \n",
    " -  For March, Saturdays were far better in sales compared to the rest, then Sunday and Friday"
   ]
  },
  {
   "cell_type": "markdown",
   "id": "53d6955a",
   "metadata": {},
   "source": [
    "`6. Customer type for each product line`"
   ]
  },
  {
   "cell_type": "code",
   "execution_count": 126,
   "id": "1af8346f",
   "metadata": {
    "scrolled": true
   },
   "outputs": [
    {
     "data": {
      "text/plain": [
       "<seaborn.axisgrid.FacetGrid at 0x24cefbcb450>"
      ]
     },
     "execution_count": 126,
     "metadata": {},
     "output_type": "execute_result"
    },
    {
     "data": {
      "image/png": "[encoded data removed]",
      "text/plain": [
       "<Figure size 1113.99x500 with 1 Axes>"
      ]
     },
     "metadata": {},
     "output_type": "display_data"
    }
   ],
   "source": [
    "sb.catplot(y='Product line', x='Items Selling Price', hue='Customer type', kind='bar', data=comb_df.sort_values(by='Items Selling Price'), height=5, aspect=2)"
   ]
  },
  {
   "cell_type": "markdown",
   "id": "9ec8d7bc",
   "metadata": {},
   "source": [
    "Result : \n",
    "\n",
    "1. For the following product categories : Sports and travel, health and lifestyle and Electronic accessories, normal customers generate more sales.\n",
    "\n",
    "2. For the rest , member customers generate more sales. This is more significant for the health and beauty category and less significant for fashion accessories category "
   ]
  },
  {
   "cell_type": "markdown",
   "id": "f95bebf3",
   "metadata": {},
   "source": [
    "`7. Average Rating for each branch and rating distribution`"
   ]
  },
  {
   "cell_type": "code",
   "execution_count": 127,
   "id": "b1097f75",
   "metadata": {},
   "outputs": [],
   "source": [
    "df_rating_branch = comb_df.groupby('Branch Location')[['Rating']].mean()"
   ]
  },
  {
   "cell_type": "code",
   "execution_count": 128,
   "id": "5970df4f",
   "metadata": {},
   "outputs": [
    {
     "data": {
      "text/html": [
       "<div>\n",
       "<style scoped>\n",
       "    .dataframe tbody tr th:only-of-type {\n",
       "        vertical-align: middle;\n",
       "    }\n",
       "\n",
       "    .dataframe tbody tr th {\n",
       "        vertical-align: top;\n",
       "    }\n",
       "\n",
       "    .dataframe thead th {\n",
       "        text-align: right;\n",
       "    }\n",
       "</style>\n",
       "<table border=\"1\" class=\"dataframe\">\n",
       "  <thead>\n",
       "    <tr style=\"text-align: right;\">\n",
       "      <th></th>\n",
       "      <th>Rating</th>\n",
       "    </tr>\n",
       "    <tr>\n",
       "      <th>Branch Location</th>\n",
       "      <th></th>\n",
       "    </tr>\n",
       "  </thead>\n",
       "  <tbody>\n",
       "    <tr>\n",
       "      <th>Abuja</th>\n",
       "      <td>6.818072</td>\n",
       "    </tr>\n",
       "    <tr>\n",
       "      <th>Lagos</th>\n",
       "      <td>7.027059</td>\n",
       "    </tr>\n",
       "    <tr>\n",
       "      <th>Port Harcourt</th>\n",
       "      <td>7.072866</td>\n",
       "    </tr>\n",
       "  </tbody>\n",
       "</table>\n",
       "</div>"
      ],
      "text/plain": [
       "                   Rating\n",
       "Branch Location          \n",
       "Abuja            6.818072\n",
       "Lagos            7.027059\n",
       "Port Harcourt    7.072866"
      ]
     },
     "execution_count": 128,
     "metadata": {},
     "output_type": "execute_result"
    }
   ],
   "source": [
    "df_rating_branch "
   ]
  },
  {
   "cell_type": "code",
   "execution_count": 130,
   "id": "037f305a",
   "metadata": {},
   "outputs": [
    {
     "data": {
      "image/png": "[encoded data removed]",
      "text/plain": [
       "<Figure size 640x480 with 1 Axes>"
      ]
     },
     "metadata": {},
     "output_type": "display_data"
    }
   ],
   "source": [
    "df_rating_branch = df_rating_branch.sort_values(by='Rating', ascending=False)\n",
    "\n",
    "generate_bar_plot(df_rating_branch.index, df_rating_branch['Rating'], \"Branch Location\", \"Rating\" )"
   ]
  },
  {
   "cell_type": "markdown",
   "id": "4e6bc12a",
   "metadata": {},
   "source": [
    "Result : PH has the highest rating then Lagos and Abuja."
   ]
  },
  {
   "cell_type": "code",
   "execution_count": 133,
   "id": "1c35ea47",
   "metadata": {},
   "outputs": [],
   "source": [
    "df_rating_count = comb_df.groupby('Rating Category')[['Rating']].count().sort_values(by='Rating', ascending =False)"
   ]
  },
  {
   "cell_type": "code",
   "execution_count": 134,
   "id": "6eb98c6a",
   "metadata": {},
   "outputs": [
    {
     "data": {
      "text/html": [
       "<div>\n",
       "<style scoped>\n",
       "    .dataframe tbody tr th:only-of-type {\n",
       "        vertical-align: middle;\n",
       "    }\n",
       "\n",
       "    .dataframe tbody tr th {\n",
       "        vertical-align: top;\n",
       "    }\n",
       "\n",
       "    .dataframe thead th {\n",
       "        text-align: right;\n",
       "    }\n",
       "</style>\n",
       "<table border=\"1\" class=\"dataframe\">\n",
       "  <thead>\n",
       "    <tr style=\"text-align: right;\">\n",
       "      <th></th>\n",
       "      <th>Rating</th>\n",
       "    </tr>\n",
       "    <tr>\n",
       "      <th>Rating Category</th>\n",
       "      <th></th>\n",
       "    </tr>\n",
       "  </thead>\n",
       "  <tbody>\n",
       "    <tr>\n",
       "      <th>Medium</th>\n",
       "      <td>518</td>\n",
       "    </tr>\n",
       "    <tr>\n",
       "      <th>High</th>\n",
       "      <td>308</td>\n",
       "    </tr>\n",
       "    <tr>\n",
       "      <th>Low</th>\n",
       "      <td>174</td>\n",
       "    </tr>\n",
       "  </tbody>\n",
       "</table>\n",
       "</div>"
      ],
      "text/plain": [
       "                 Rating\n",
       "Rating Category        \n",
       "Medium              518\n",
       "High                308\n",
       "Low                 174"
      ]
     },
     "execution_count": 134,
     "metadata": {},
     "output_type": "execute_result"
    }
   ],
   "source": [
    "df_rating_count"
   ]
  },
  {
   "cell_type": "code",
   "execution_count": 136,
   "id": "2f6a215c",
   "metadata": {
    "scrolled": true
   },
   "outputs": [
    {
     "data": {
      "image/png": "[encoded data removed]",
      "text/plain": [
       "<Figure size 640x480 with 1 Axes>"
      ]
     },
     "metadata": {},
     "output_type": "display_data"
    }
   ],
   "source": [
    "plt.pie(df_rating_count['Rating'], labels=df_rating_count.index, autopct='%.0f%%')\n",
    "plt.show()"
   ]
  },
  {
   "cell_type": "markdown",
   "id": "99ce769d",
   "metadata": {},
   "source": [
    "Result : There are more medium ratings then high and low."
   ]
  },
  {
   "cell_type": "markdown",
   "id": "b471be1e",
   "metadata": {},
   "source": [
    "8 `Payment Channel For each branch`"
   ]
  },
  {
   "cell_type": "code",
   "execution_count": 140,
   "id": "499afc21",
   "metadata": {},
   "outputs": [
    {
     "data": {
      "text/plain": [
       "Text(0.5, 1.0, 'How Sales compare to Branch across payment channels')"
      ]
     },
     "execution_count": 140,
     "metadata": {},
     "output_type": "execute_result"
    },
    {
     "data": {
      "image/png": "[encoded data removed]",
      "text/plain": [
       "<Figure size 640x480 with 1 Axes>"
      ]
     },
     "metadata": {},
     "output_type": "display_data"
    }
   ],
   "source": [
    "sb.barplot(x='Branch Location', y='Items Selling Price', hue='Payment Type', data=comb_df)\n",
    "plt.title('How Sales compare to Branch across payment channels')"
   ]
  },
  {
   "cell_type": "markdown",
   "id": "51f1fde0",
   "metadata": {},
   "source": [
    "Result : \n",
    "\n",
    "1. All 3 payment channels are used almost equally in Lagos\n",
    "\n",
    "2. Card is the most popular method in Abuja then Cash and Epay\n",
    "\n",
    "3. In PH, it is Epay then cash and card."
   ]
  },
  {
   "cell_type": "markdown",
   "id": "418a23fa",
   "metadata": {},
   "source": [
    "` 9. How Gender compare to product line`"
   ]
  },
  {
   "cell_type": "code",
   "execution_count": 142,
   "id": "f11e1959",
   "metadata": {},
   "outputs": [
    {
     "data": {
      "text/plain": [
       "Text(0.5, 1.0, 'How Sales compare to Product Line across gender types')"
      ]
     },
     "execution_count": 142,
     "metadata": {},
     "output_type": "execute_result"
    },
    {
     "data": {
      "image/png": "[encoded data removed]",
      "text/plain": [
       "<Figure size 640x480 with 1 Axes>"
      ]
     },
     "metadata": {},
     "output_type": "display_data"
    }
   ],
   "source": [
    "sb.barplot(y='Product line', x='Items Selling Price', hue='Gender', data=comb_df)\n",
    "plt.title('How Sales compare to Product Line across gender types')"
   ]
  },
  {
   "cell_type": "raw",
   "id": "df485922",
   "metadata": {},
   "source": [
    "Result: \n",
    "\n",
    "1. More females purchase items from home and lifestyle, fashion accessories and food and beverages.\n",
    "\n",
    "2. More males purchase items in the categories Sport and travel and health and beauty."
   ]
  },
  {
   "cell_type": "markdown",
   "id": "b9450a6f",
   "metadata": {},
   "source": [
    "`10. What hour of the day is the busiest`"
   ]
  },
  {
   "cell_type": "code",
   "execution_count": 143,
   "id": "fad64f61",
   "metadata": {},
   "outputs": [],
   "source": [
    "comb_df['Hour'] = comb_df['DateTime'].dt.hour"
   ]
  },
  {
   "cell_type": "code",
   "execution_count": 144,
   "id": "56ab7b57",
   "metadata": {},
   "outputs": [],
   "source": [
    "df_sales_by_hr = comb_df.groupby('Hour')[['Quantity']].sum().sort_values(by=\"Quantity\", ascending=False)"
   ]
  },
  {
   "cell_type": "code",
   "execution_count": 145,
   "id": "9abb28b1",
   "metadata": {},
   "outputs": [
    {
     "data": {
      "text/html": [
       "<div>\n",
       "<style scoped>\n",
       "    .dataframe tbody tr th:only-of-type {\n",
       "        vertical-align: middle;\n",
       "    }\n",
       "\n",
       "    .dataframe tbody tr th {\n",
       "        vertical-align: top;\n",
       "    }\n",
       "\n",
       "    .dataframe thead th {\n",
       "        text-align: right;\n",
       "    }\n",
       "</style>\n",
       "<table border=\"1\" class=\"dataframe\">\n",
       "  <thead>\n",
       "    <tr style=\"text-align: right;\">\n",
       "      <th></th>\n",
       "      <th>Quantity</th>\n",
       "    </tr>\n",
       "    <tr>\n",
       "      <th>Hour</th>\n",
       "      <th></th>\n",
       "    </tr>\n",
       "  </thead>\n",
       "  <tbody>\n",
       "    <tr>\n",
       "      <th>19</th>\n",
       "      <td>649</td>\n",
       "    </tr>\n",
       "    <tr>\n",
       "      <th>13</th>\n",
       "      <td>585</td>\n",
       "    </tr>\n",
       "    <tr>\n",
       "      <th>15</th>\n",
       "      <td>530</td>\n",
       "    </tr>\n",
       "    <tr>\n",
       "      <th>10</th>\n",
       "      <td>525</td>\n",
       "    </tr>\n",
       "    <tr>\n",
       "      <th>11</th>\n",
       "      <td>513</td>\n",
       "    </tr>\n",
       "    <tr>\n",
       "      <th>12</th>\n",
       "      <td>501</td>\n",
       "    </tr>\n",
       "    <tr>\n",
       "      <th>14</th>\n",
       "      <td>495</td>\n",
       "    </tr>\n",
       "    <tr>\n",
       "      <th>18</th>\n",
       "      <td>475</td>\n",
       "    </tr>\n",
       "    <tr>\n",
       "      <th>16</th>\n",
       "      <td>420</td>\n",
       "    </tr>\n",
       "    <tr>\n",
       "      <th>17</th>\n",
       "      <td>415</td>\n",
       "    </tr>\n",
       "    <tr>\n",
       "      <th>20</th>\n",
       "      <td>402</td>\n",
       "    </tr>\n",
       "  </tbody>\n",
       "</table>\n",
       "</div>"
      ],
      "text/plain": [
       "      Quantity\n",
       "Hour          \n",
       "19         649\n",
       "13         585\n",
       "15         530\n",
       "10         525\n",
       "11         513\n",
       "12         501\n",
       "14         495\n",
       "18         475\n",
       "16         420\n",
       "17         415\n",
       "20         402"
      ]
     },
     "execution_count": 145,
     "metadata": {},
     "output_type": "execute_result"
    }
   ],
   "source": [
    "df_sales_by_hr"
   ]
  },
  {
   "cell_type": "code",
   "execution_count": 146,
   "id": "c8453e4c",
   "metadata": {},
   "outputs": [
    {
     "data": {
      "text/html": [
       "<div>\n",
       "<style scoped>\n",
       "    .dataframe tbody tr th:only-of-type {\n",
       "        vertical-align: middle;\n",
       "    }\n",
       "\n",
       "    .dataframe tbody tr th {\n",
       "        vertical-align: top;\n",
       "    }\n",
       "\n",
       "    .dataframe thead th {\n",
       "        text-align: right;\n",
       "    }\n",
       "</style>\n",
       "<table border=\"1\" class=\"dataframe\">\n",
       "  <thead>\n",
       "    <tr style=\"text-align: right;\">\n",
       "      <th></th>\n",
       "      <th>Quantity</th>\n",
       "    </tr>\n",
       "    <tr>\n",
       "      <th>Hour</th>\n",
       "      <th></th>\n",
       "    </tr>\n",
       "  </thead>\n",
       "  <tbody>\n",
       "    <tr>\n",
       "      <th>7 PM</th>\n",
       "      <td>649</td>\n",
       "    </tr>\n",
       "    <tr>\n",
       "      <th>1 PM</th>\n",
       "      <td>585</td>\n",
       "    </tr>\n",
       "    <tr>\n",
       "      <th>3 PM</th>\n",
       "      <td>530</td>\n",
       "    </tr>\n",
       "    <tr>\n",
       "      <th>10 AM</th>\n",
       "      <td>525</td>\n",
       "    </tr>\n",
       "    <tr>\n",
       "      <th>11 AM</th>\n",
       "      <td>513</td>\n",
       "    </tr>\n",
       "    <tr>\n",
       "      <th>12 PM</th>\n",
       "      <td>501</td>\n",
       "    </tr>\n",
       "    <tr>\n",
       "      <th>2 PM</th>\n",
       "      <td>495</td>\n",
       "    </tr>\n",
       "    <tr>\n",
       "      <th>6 PM</th>\n",
       "      <td>475</td>\n",
       "    </tr>\n",
       "    <tr>\n",
       "      <th>4 PM</th>\n",
       "      <td>420</td>\n",
       "    </tr>\n",
       "    <tr>\n",
       "      <th>5 PM</th>\n",
       "      <td>415</td>\n",
       "    </tr>\n",
       "    <tr>\n",
       "      <th>8 PM</th>\n",
       "      <td>402</td>\n",
       "    </tr>\n",
       "  </tbody>\n",
       "</table>\n",
       "</div>"
      ],
      "text/plain": [
       "       Quantity\n",
       "Hour           \n",
       "7 PM        649\n",
       "1 PM        585\n",
       "3 PM        530\n",
       "10 AM       525\n",
       "11 AM       513\n",
       "12 PM       501\n",
       "2 PM        495\n",
       "6 PM        475\n",
       "4 PM        420\n",
       "5 PM        415\n",
       "8 PM        402"
      ]
     },
     "execution_count": 146,
     "metadata": {},
     "output_type": "execute_result"
    }
   ],
   "source": [
    "hour_mapping = {\n",
    "    0: \"12 AM\", 1: \"1 AM\", 2: \"2 AM\", 3: \"3 AM\", 4: \"4 AM\", 5: \"5 AM\", 6: \"6 AM\", 7: \"7 AM\", 8: \"8 AM\", 9: \"9 AM\", 10: \"10 AM\", 11: \"11 AM\",\n",
    "    12: \"12 PM\", 13: \"1 PM\", 14: \"2 PM\", 15: \"3 PM\", 16: \"4 PM\", 17: \"5 PM\", 18: \"6 PM\", 19: \"7 PM\", 20: \"8 PM\", 21: \"9 PM\", 22: \"10 PM\", 23: \"11 PM\"\n",
    "}\n",
    "\n",
    "df_sales_by_hr.index = df_sales_by_hr.index.map(hour_mapping)\n",
    "\n",
    "df_sales_by_hr"
   ]
  },
  {
   "cell_type": "markdown",
   "id": "b0527c60",
   "metadata": {},
   "source": [
    "Result : The busiest hours are 7pm , 1pm and 3pm respectively"
   ]
  },
  {
   "cell_type": "markdown",
   "id": "60bb5e57",
   "metadata": {},
   "source": [
    "`11. Busiest hour by location/branch`"
   ]
  },
  {
   "cell_type": "code",
   "execution_count": 159,
   "id": "4ec82051",
   "metadata": {},
   "outputs": [
    {
     "data": {
      "text/html": [
       "<div>\n",
       "<style scoped>\n",
       "    .dataframe tbody tr th:only-of-type {\n",
       "        vertical-align: middle;\n",
       "    }\n",
       "\n",
       "    .dataframe tbody tr th {\n",
       "        vertical-align: top;\n",
       "    }\n",
       "\n",
       "    .dataframe thead th {\n",
       "        text-align: right;\n",
       "    }\n",
       "</style>\n",
       "<table border=\"1\" class=\"dataframe\">\n",
       "  <thead>\n",
       "    <tr style=\"text-align: right;\">\n",
       "      <th></th>\n",
       "      <th>Hour Label</th>\n",
       "      <th>Branch Location</th>\n",
       "      <th>Quantity</th>\n",
       "    </tr>\n",
       "  </thead>\n",
       "  <tbody>\n",
       "    <tr>\n",
       "      <th>0</th>\n",
       "      <td>1 PM</td>\n",
       "      <td>Abuja</td>\n",
       "      <td>201</td>\n",
       "    </tr>\n",
       "    <tr>\n",
       "      <th>1</th>\n",
       "      <td>1 PM</td>\n",
       "      <td>Lagos</td>\n",
       "      <td>183</td>\n",
       "    </tr>\n",
       "    <tr>\n",
       "      <th>2</th>\n",
       "      <td>1 PM</td>\n",
       "      <td>Port Harcourt</td>\n",
       "      <td>201</td>\n",
       "    </tr>\n",
       "    <tr>\n",
       "      <th>3</th>\n",
       "      <td>10 AM</td>\n",
       "      <td>Abuja</td>\n",
       "      <td>152</td>\n",
       "    </tr>\n",
       "    <tr>\n",
       "      <th>4</th>\n",
       "      <td>10 AM</td>\n",
       "      <td>Lagos</td>\n",
       "      <td>192</td>\n",
       "    </tr>\n",
       "  </tbody>\n",
       "</table>\n",
       "</div>"
      ],
      "text/plain": [
       "  Hour Label Branch Location  Quantity\n",
       "0       1 PM           Abuja       201\n",
       "1       1 PM           Lagos       183\n",
       "2       1 PM   Port Harcourt       201\n",
       "3      10 AM           Abuja       152\n",
       "4      10 AM           Lagos       192"
      ]
     },
     "execution_count": 159,
     "metadata": {},
     "output_type": "execute_result"
    }
   ],
   "source": [
    "\n",
    "\n",
    "comb_df['Hour Label'] = comb_df['Hour'].map(hour_mapping)\n",
    "\n",
    "agg_data = comb_df.groupby(['Hour Label', 'Branch Location'], as_index=False)['Quantity'].sum()\n",
    "\n",
    "agg_data.head()"
   ]
  },
  {
   "cell_type": "code",
   "execution_count": 164,
   "id": "0a0e8364",
   "metadata": {},
   "outputs": [
    {
     "data": {
      "text/plain": [
       "Text(0.5, 1.0, 'Quantity Sold by Hour and Branch Location')"
      ]
     },
     "execution_count": 164,
     "metadata": {},
     "output_type": "execute_result"
    },
    {
     "data": {
      "image/png": "[encoded data removed]",
      "text/plain": [
       "<Figure size 1093.62x500 with 1 Axes>"
      ]
     },
     "metadata": {},
     "output_type": "display_data"
    }
   ],
   "source": [
    "sb.catplot(x='Branch Location', y='Quantity', hue='Hour Label', kind='bar', data=agg_data.sort_values(by='Quantity'), height=5, aspect=2)\n",
    "plt.title('Quantity Sold by Hour and Branch Location')"
   ]
  },
  {
   "cell_type": "markdown",
   "id": "7e54136b",
   "metadata": {},
   "source": [
    "Result :\n",
    "\n",
    "1. In Abuja, 7pm, 1pm and 2pm are the busiest. 7pm is an extremely busy time\n",
    "\n",
    "2. In Lagos, 3pm, 10am and 11am are the busiest\n",
    "\n",
    "3. In PH, 7pm , 1pm and 10am are the busiest"
   ]
  },
  {
   "cell_type": "markdown",
   "id": "6181ff98",
   "metadata": {},
   "source": [
    "`12. Rating category distribution in each location`"
   ]
  },
  {
   "cell_type": "code",
   "execution_count": 167,
   "id": "d7d4cdb9",
   "metadata": {},
   "outputs": [
    {
     "data": {
      "text/html": [
       "<div>\n",
       "<style scoped>\n",
       "    .dataframe tbody tr th:only-of-type {\n",
       "        vertical-align: middle;\n",
       "    }\n",
       "\n",
       "    .dataframe tbody tr th {\n",
       "        vertical-align: top;\n",
       "    }\n",
       "\n",
       "    .dataframe thead th {\n",
       "        text-align: right;\n",
       "    }\n",
       "</style>\n",
       "<table border=\"1\" class=\"dataframe\">\n",
       "  <thead>\n",
       "    <tr style=\"text-align: right;\">\n",
       "      <th></th>\n",
       "      <th>Rating Category</th>\n",
       "      <th>Branch Location</th>\n",
       "      <th>Rating</th>\n",
       "    </tr>\n",
       "  </thead>\n",
       "  <tbody>\n",
       "    <tr>\n",
       "      <th>0</th>\n",
       "      <td>High</td>\n",
       "      <td>Abuja</td>\n",
       "      <td>89</td>\n",
       "    </tr>\n",
       "    <tr>\n",
       "      <th>1</th>\n",
       "      <td>High</td>\n",
       "      <td>Lagos</td>\n",
       "      <td>106</td>\n",
       "    </tr>\n",
       "    <tr>\n",
       "      <th>2</th>\n",
       "      <td>High</td>\n",
       "      <td>Port Harcourt</td>\n",
       "      <td>113</td>\n",
       "    </tr>\n",
       "    <tr>\n",
       "      <th>3</th>\n",
       "      <td>Low</td>\n",
       "      <td>Abuja</td>\n",
       "      <td>66</td>\n",
       "    </tr>\n",
       "    <tr>\n",
       "      <th>4</th>\n",
       "      <td>Low</td>\n",
       "      <td>Lagos</td>\n",
       "      <td>60</td>\n",
       "    </tr>\n",
       "    <tr>\n",
       "      <th>5</th>\n",
       "      <td>Low</td>\n",
       "      <td>Port Harcourt</td>\n",
       "      <td>48</td>\n",
       "    </tr>\n",
       "    <tr>\n",
       "      <th>6</th>\n",
       "      <td>Medium</td>\n",
       "      <td>Abuja</td>\n",
       "      <td>177</td>\n",
       "    </tr>\n",
       "    <tr>\n",
       "      <th>7</th>\n",
       "      <td>Medium</td>\n",
       "      <td>Lagos</td>\n",
       "      <td>174</td>\n",
       "    </tr>\n",
       "    <tr>\n",
       "      <th>8</th>\n",
       "      <td>Medium</td>\n",
       "      <td>Port Harcourt</td>\n",
       "      <td>167</td>\n",
       "    </tr>\n",
       "  </tbody>\n",
       "</table>\n",
       "</div>"
      ],
      "text/plain": [
       "  Rating Category Branch Location  Rating\n",
       "0            High           Abuja      89\n",
       "1            High           Lagos     106\n",
       "2            High   Port Harcourt     113\n",
       "3             Low           Abuja      66\n",
       "4             Low           Lagos      60\n",
       "5             Low   Port Harcourt      48\n",
       "6          Medium           Abuja     177\n",
       "7          Medium           Lagos     174\n",
       "8          Medium   Port Harcourt     167"
      ]
     },
     "execution_count": 167,
     "metadata": {},
     "output_type": "execute_result"
    }
   ],
   "source": [
    "agg_data = comb_df.groupby(['Rating Category', 'Branch Location'], as_index=False)['Rating'].count()\n",
    "\n",
    "agg_data"
   ]
  },
  {
   "cell_type": "code",
   "execution_count": 168,
   "id": "11e09403",
   "metadata": {},
   "outputs": [
    {
     "data": {
      "text/plain": [
       "Text(0.5, 1.0, 'Rating Category Distribution')"
      ]
     },
     "execution_count": 168,
     "metadata": {},
     "output_type": "execute_result"
    },
    {
     "data": {
      "image/png": "[encoded data removed]",
      "text/plain": [
       "<Figure size 1124.36x500 with 1 Axes>"
      ]
     },
     "metadata": {},
     "output_type": "display_data"
    }
   ],
   "source": [
    "sb.catplot(x='Branch Location', y='Rating', hue='Rating Category', kind='bar', data=agg_data.sort_values(by='Rating'), height=5, aspect=2)\n",
    "plt.title('Rating Category Distribution')"
   ]
  },
  {
   "cell_type": "markdown",
   "id": "4582be3c",
   "metadata": {},
   "source": [
    "Result : \n",
    "\n",
    "1. PH Has the lowest low rating , Abuja has the highest low rating"
   ]
  },
  {
   "cell_type": "markdown",
   "id": "d5eefb56",
   "metadata": {},
   "source": [
    "#### Conclusion\n",
    "\n",
    "The following insights were drawn from analyzing the data:\n",
    "\n",
    "- Portharcourt branch is generating more income than Lagos then Abuja. There isn't much difference in the revenue generation for the 3 branches.\n",
    "\n",
    "- In order of usage, the most popular payment methods are Epay, Cash then Card\n",
    "\n",
    "- In terms of quantity of items bought, electronic accessories and Food beverages come tops where health and beauty items are least purchased\n",
    "\n",
    "- Over the course of the 3 month period, the highest sales was recorded in January, there was a decline in February and pick up in March\n",
    "\n",
    "- A further drill down on sales trend indicated that :\n",
    "\n",
    "  - In the month of January,  Wednesdays, Thursdays and Tuesday are when we generate most sales\n",
    " \n",
    "  - For February, it is  Friday, Sunday and Tuesday. It is obvious that compared to January, the sales were not steady in February.\n",
    " \n",
    "  -  For March, Saturdays were far better in sales compared to the rest, then Sunday and Friday\n",
    "\n",
    "\n",
    "- In understading the impact of customer type on product line, it was found that for the following product categories : Sports and travel, health and lifestyle and Electronic accessories, normal customers generate more sales.\n",
    "\n",
    "  For the rest , member customers generate more sales. This is more significant for the health and beauty category and less significant for fashion accessories category \n",
    "\n",
    "- Overall for the course of the 3 month period, PH has the highest rating then Lagos and Abuja.\n",
    "\n",
    "- A futher drill down on rating shows that there are more medium ratings (52%) then high (31%) and low (17%) and PH has the   highest low rating (48) while Abuja has the highest low rating (66)\n",
    "\n",
    " The ratings have been categorised using the keys below:\n",
    "\n",
    "     < 5 : Low\n",
    "     5 <=> 8 : Medium \n",
    "     > 8 : High\n",
    "\n",
    "- In understanding payment channels used in each branch, it was found that:\n",
    "\n",
    "    - All 3 payment channels are used almost equally in Lagos\n",
    "\n",
    "    - Card is the most popular method in Abuja then Cash and Epay\n",
    "\n",
    "    - In PH, it is Epay then cash and card.\n",
    "\n",
    "- For comparing product line to gender, it was discovered that :\n",
    "\n",
    "    - More females purchase items from these product lines: home and lifestyle, fashion accessories and food and beverages.\n",
    "\n",
    "    - More males purchase items in the categories: Sport and travel and health and beauty.\n",
    "\n",
    "- Overall, the busiest hours are 7pm , 1pm and 3pm respectively\n",
    "\n",
    "- A further drill down per location:\n",
    "    - In Abuja, 7pm, 1pm and 2pm are the busiest. 7pm is an extremely busy time\n",
    "\n",
    "    - In Lagos, 3pm, 10am and 11am are the busiest\n",
    "\n",
    "    - In PH, 7pm , 1pm and 10am are the busiest"
   ]
  },
  {
   "cell_type": "code",
   "execution_count": null,
   "id": "e4017b88",
   "metadata": {},
   "outputs": [],
   "source": []
  }
 ],
 "metadata": {
  "kernelspec": {
   "display_name": "Python 3 (ipykernel)",
   "language": "python",
   "name": "python3"
  },
  "language_info": {
   "codemirror_mode": {
    "name": "ipython",
    "version": 3
   },
   "file_extension": ".py",
   "mimetype": "text/x-python",
   "name": "python",
   "nbconvert_exporter": "python",
   "pygments_lexer": "ipython3",
   "version": "3.11.5"
  }
 },
 "nbformat": 4,
 "nbformat_minor": 5
}
